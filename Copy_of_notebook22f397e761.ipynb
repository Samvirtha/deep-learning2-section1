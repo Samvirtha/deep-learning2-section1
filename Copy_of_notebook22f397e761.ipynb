{
  "metadata": {
    "kernelspec": {
      "language": "python",
      "display_name": "Python 3",
      "name": "python3"
    },
    "language_info": {
      "pygments_lexer": "ipython3",
      "nbconvert_exporter": "python",
      "version": "3.6.4",
      "file_extension": ".py",
      "codemirror_mode": {
        "name": "ipython",
        "version": 3
      },
      "name": "python",
      "mimetype": "text/x-python"
    },
    "kaggle": {
      "accelerator": "none",
      "dataSources": [
        {
          "sourceId": 3531703,
          "sourceType": "datasetVersion",
          "datasetId": 2123951
        }
      ],
      "isInternetEnabled": false,
      "language": "python",
      "sourceType": "notebook",
      "isGpuEnabled": false
    },
    "colab": {
      "provenance": [],
      "include_colab_link": true
    }
  },
  "nbformat_minor": 0,
  "nbformat": 4,
  "cells": [
    {
      "cell_type": "markdown",
      "metadata": {
        "id": "view-in-github",
        "colab_type": "text"
      },
      "source": [
        "<a href=\"https://colab.research.google.com/github/Samvirtha/deep-learning2-section1/blob/main/Copy_of_notebook22f397e761.ipynb\" target=\"_parent\"><img src=\"https://colab.research.google.com/assets/colab-badge.svg\" alt=\"Open In Colab\"/></a>"
      ]
    },
    {
      "source": [
        "\n",
        "# IMPORTANT: RUN THIS CELL IN ORDER TO IMPORT YOUR KAGGLE DATA SOURCES\n",
        "# TO THE CORRECT LOCATION (/kaggle/input) IN YOUR NOTEBOOK,\n",
        "# THEN FEEL FREE TO DELETE THIS CELL.\n",
        "# NOTE: THIS NOTEBOOK ENVIRONMENT DIFFERS FROM KAGGLE'S PYTHON\n",
        "# ENVIRONMENT SO THERE MAY BE MISSING LIBRARIES USED BY YOUR\n",
        "# NOTEBOOK.\n",
        "\n",
        "import os\n",
        "import sys\n",
        "from tempfile import NamedTemporaryFile\n",
        "from urllib.request import urlopen\n",
        "from urllib.parse import unquote, urlparse\n",
        "from urllib.error import HTTPError\n",
        "from zipfile import ZipFile\n",
        "import tarfile\n",
        "import shutil\n",
        "\n",
        "CHUNK_SIZE = 40960\n",
        "DATA_SOURCE_MAPPING = 'medium-articles:https%3A%2F%2Fstorage.googleapis.com%2Fkaggle-data-sets%2F2123951%2F3531703%2Fbundle%2Farchive.zip%3FX-Goog-Algorithm%3DGOOG4-RSA-SHA256%26X-Goog-Credential%3Dgcp-kaggle-com%2540kaggle-161607.iam.gserviceaccount.com%252F20240908%252Fauto%252Fstorage%252Fgoog4_request%26X-Goog-Date%3D20240908T094733Z%26X-Goog-Expires%3D259200%26X-Goog-SignedHeaders%3Dhost%26X-Goog-Signature%3D6549a6dea7fc63bd4ec7495076974398880554c5c7235b08ff6ce5dfea80c28f2774fa5b1a75066b4647afa5b6cb34247aa62ea20d0db67a9b3d21318a58734679e15d3a6d4ad596d857c2ed5778dab6abf89d3cae7768496969e8d8ed1eae9e04a1a5d48fcbd36599f1768a5747d34371f401cf041bdd4f4715644ba239ecb8122e72ffd91c818b9ba591d79871ba7a993a3a3f8fcab70df8deebcf6381a4a8a3f4d0d5f14b3bec33b36e616c3199bcf10c1a61939acf75e539dd5aaf808ec78f284b1b57b84c8a7ef0782b77287d2f07d4a1be8739cb3c1bea0928716364b0827adaf9b788f5757b6e3d888787d86c213f01812d180f511763414b307c2b6e'\n",
        "\n",
        "KAGGLE_INPUT_PATH='/kaggle/input'\n",
        "KAGGLE_WORKING_PATH='/kaggle/working'\n",
        "KAGGLE_SYMLINK='kaggle'\n",
        "\n",
        "!umount /kaggle/input/ 2> /dev/null\n",
        "shutil.rmtree('/kaggle/input', ignore_errors=True)\n",
        "os.makedirs(KAGGLE_INPUT_PATH, 0o777, exist_ok=True)\n",
        "os.makedirs(KAGGLE_WORKING_PATH, 0o777, exist_ok=True)\n",
        "\n",
        "try:\n",
        "  os.symlink(KAGGLE_INPUT_PATH, os.path.join(\"..\", 'input'), target_is_directory=True)\n",
        "except FileExistsError:\n",
        "  pass\n",
        "try:\n",
        "  os.symlink(KAGGLE_WORKING_PATH, os.path.join(\"..\", 'working'), target_is_directory=True)\n",
        "except FileExistsError:\n",
        "  pass\n",
        "\n",
        "for data_source_mapping in DATA_SOURCE_MAPPING.split(','):\n",
        "    directory, download_url_encoded = data_source_mapping.split(':')\n",
        "    download_url = unquote(download_url_encoded)\n",
        "    filename = urlparse(download_url).path\n",
        "    destination_path = os.path.join(KAGGLE_INPUT_PATH, directory)\n",
        "    try:\n",
        "        with urlopen(download_url) as fileres, NamedTemporaryFile() as tfile:\n",
        "            total_length = fileres.headers['content-length']\n",
        "            print(f'Downloading {directory}, {total_length} bytes compressed')\n",
        "            dl = 0\n",
        "            data = fileres.read(CHUNK_SIZE)\n",
        "            while len(data) > 0:\n",
        "                dl += len(data)\n",
        "                tfile.write(data)\n",
        "                done = int(50 * dl / int(total_length))\n",
        "                sys.stdout.write(f\"\\r[{'=' * done}{' ' * (50-done)}] {dl} bytes downloaded\")\n",
        "                sys.stdout.flush()\n",
        "                data = fileres.read(CHUNK_SIZE)\n",
        "            if filename.endswith('.zip'):\n",
        "              with ZipFile(tfile) as zfile:\n",
        "                zfile.extractall(destination_path)\n",
        "            else:\n",
        "              with tarfile.open(tfile.name) as tarfile:\n",
        "                tarfile.extractall(destination_path)\n",
        "            print(f'\\nDownloaded and uncompressed: {directory}')\n",
        "    except HTTPError as e:\n",
        "        print(f'Failed to load (likely expired) {download_url} to path {destination_path}')\n",
        "        continue\n",
        "    except OSError as e:\n",
        "        print(f'Failed to load {download_url} to path {destination_path}')\n",
        "        continue\n",
        "\n",
        "print('Data source import complete.')\n"
      ],
      "metadata": {
        "id": "N55VjMPTCESr",
        "outputId": "a185130e-cec0-4250-a6bd-b01e4019787e",
        "colab": {
          "base_uri": "https://localhost:8080/"
        }
      },
      "cell_type": "code",
      "outputs": [
        {
          "output_type": "stream",
          "name": "stdout",
          "text": [
            "Downloading medium-articles, 386824829 bytes compressed\n",
            "[==================================================] 386824829 bytes downloaded\n",
            "Downloaded and uncompressed: medium-articles\n",
            "Data source import complete.\n"
          ]
        }
      ],
      "execution_count": null
    },
    {
      "cell_type": "code",
      "source": [
        "# This Python 3 environment comes with many helpful analytics libraries installed\n",
        "# It is defined by the kaggle/python Docker image: https://github.com/kaggle/docker-python\n",
        "# For example, here's several helpful packages to load\n",
        "\n",
        "import numpy as np # linear algebra\n",
        "import pandas as pd # data processing, CSV file I/O (e.g. pd.read_csv)\n",
        "\n",
        "# Input data files are available in the read-only \"../input/\" directory\n",
        "# For example, running this (by clicking run or pressing Shift+Enter) will list all files under the input directory\n",
        "\n",
        "import os\n",
        "for dirname, _, filenames in os.walk('/kaggle/input'):\n",
        "    for filename in filenames:\n",
        "        print(os.path.join(dirname, filename))\n",
        "\n",
        "# You can write up to 20GB to the current directory (/kaggle/working/) that gets preserved as output when you create a version using \"Save & Run All\"\n",
        "# You can also write temporary files to /kaggle/temp/, but they won't be saved outside of the current session"
      ],
      "metadata": {
        "_uuid": "8f2839f25d086af736a60e9eeb907d3b93b6e0e5",
        "_cell_guid": "b1076dfc-b9ad-4769-8c92-a6c4dae69d19",
        "trusted": true,
        "id": "cv6BXO4fCESx",
        "outputId": "070cb3da-cd8d-4a77-dfb6-63ecd993d60c",
        "colab": {
          "base_uri": "https://localhost:8080/"
        }
      },
      "execution_count": null,
      "outputs": [
        {
          "output_type": "stream",
          "name": "stdout",
          "text": [
            "/kaggle/input/medium-articles/medium_articles.csv\n"
          ]
        }
      ]
    },
    {
      "cell_type": "code",
      "source": [
        "import numpy as np\n",
        "\n",
        "import pandas as pd\n",
        "\n",
        "import nltk\n",
        "\n",
        "import re\n",
        "\n",
        "from nltk.tokenize import sent_tokenize\n",
        "\n",
        "from nltk.corpus import stopwords\n",
        "\n",
        "from gensim.models import Word2Vec\n",
        "\n",
        "from scipy import spatial\n",
        "\n",
        "import networkx as nx\n",
        "\n",
        "import csv"
      ],
      "metadata": {
        "id": "eb9-4Y95CIy8"
      },
      "execution_count": null,
      "outputs": []
    },
    {
      "cell_type": "code",
      "source": [
        "df=pd.read_csv('/kaggle/input/medium-articles/medium_articles.csv')\n",
        "\n",
        "df.head()\n"
      ],
      "metadata": {
        "id": "drfp_iwkCQxs",
        "outputId": "523c9153-3e68-4b4b-9cef-4f16e4fa28ca",
        "colab": {
          "base_uri": "https://localhost:8080/",
          "height": 469
        }
      },
      "execution_count": null,
      "outputs": [
        {
          "output_type": "execute_result",
          "data": {
            "text/plain": [
              "                              title  \\\n",
              "0               Mental Note Vol. 24   \n",
              "1         Your Brain On Coronavirus   \n",
              "2                    Mind Your Nose   \n",
              "3          The 4 Purposes of Dreams   \n",
              "4  Surviving a Rod Through the Head   \n",
              "\n",
              "                                                text  \\\n",
              "0  Photo by Josh Riemer on Unsplash\\n\\nMerry Chri...   \n",
              "1  Your Brain On Coronavirus\\n\\nA guide to the cu...   \n",
              "2  Mind Your Nose\\n\\nHow smell training can chang...   \n",
              "3  Passionate about the synergy between science a...   \n",
              "4  You’ve heard of him, haven’t you? Phineas Gage...   \n",
              "\n",
              "                                                 url                 authors  \\\n",
              "0  https://medium.com/invisible-illness/mental-no...            ['Ryan Fan']   \n",
              "1  https://medium.com/age-of-awareness/how-the-pa...       ['Simon Spichak']   \n",
              "2  https://medium.com/neodotlife/mind-your-nose-f...                      []   \n",
              "3  https://medium.com/science-for-real/the-4-purp...  ['Eshan Samaranayake']   \n",
              "4  https://medium.com/live-your-life-on-purpose/s...        ['Rishav Sinha']   \n",
              "\n",
              "                          timestamp  \\\n",
              "0  2020-12-26 03:38:10.479000+00:00   \n",
              "1  2020-09-23 22:10:17.126000+00:00   \n",
              "2  2020-10-10 20:17:37.132000+00:00   \n",
              "3  2020-12-21 16:05:19.524000+00:00   \n",
              "4  2020-02-26 00:01:01.576000+00:00   \n",
              "\n",
              "                                                tags  \n",
              "0  ['Mental Health', 'Health', 'Psychology', 'Sci...  \n",
              "1  ['Mental Health', 'Coronavirus', 'Science', 'P...  \n",
              "2  ['Biotechnology', 'Neuroscience', 'Brain', 'We...  \n",
              "3  ['Health', 'Neuroscience', 'Mental Health', 'P...  \n",
              "4  ['Brain', 'Health', 'Development', 'Psychology...  "
            ],
            "text/html": [
              "\n",
              "  <div id=\"df-6fcc223b-5308-401b-abae-9b15e7a6de44\" class=\"colab-df-container\">\n",
              "    <div>\n",
              "<style scoped>\n",
              "    .dataframe tbody tr th:only-of-type {\n",
              "        vertical-align: middle;\n",
              "    }\n",
              "\n",
              "    .dataframe tbody tr th {\n",
              "        vertical-align: top;\n",
              "    }\n",
              "\n",
              "    .dataframe thead th {\n",
              "        text-align: right;\n",
              "    }\n",
              "</style>\n",
              "<table border=\"1\" class=\"dataframe\">\n",
              "  <thead>\n",
              "    <tr style=\"text-align: right;\">\n",
              "      <th></th>\n",
              "      <th>title</th>\n",
              "      <th>text</th>\n",
              "      <th>url</th>\n",
              "      <th>authors</th>\n",
              "      <th>timestamp</th>\n",
              "      <th>tags</th>\n",
              "    </tr>\n",
              "  </thead>\n",
              "  <tbody>\n",
              "    <tr>\n",
              "      <th>0</th>\n",
              "      <td>Mental Note Vol. 24</td>\n",
              "      <td>Photo by Josh Riemer on Unsplash\\n\\nMerry Chri...</td>\n",
              "      <td>https://medium.com/invisible-illness/mental-no...</td>\n",
              "      <td>['Ryan Fan']</td>\n",
              "      <td>2020-12-26 03:38:10.479000+00:00</td>\n",
              "      <td>['Mental Health', 'Health', 'Psychology', 'Sci...</td>\n",
              "    </tr>\n",
              "    <tr>\n",
              "      <th>1</th>\n",
              "      <td>Your Brain On Coronavirus</td>\n",
              "      <td>Your Brain On Coronavirus\\n\\nA guide to the cu...</td>\n",
              "      <td>https://medium.com/age-of-awareness/how-the-pa...</td>\n",
              "      <td>['Simon Spichak']</td>\n",
              "      <td>2020-09-23 22:10:17.126000+00:00</td>\n",
              "      <td>['Mental Health', 'Coronavirus', 'Science', 'P...</td>\n",
              "    </tr>\n",
              "    <tr>\n",
              "      <th>2</th>\n",
              "      <td>Mind Your Nose</td>\n",
              "      <td>Mind Your Nose\\n\\nHow smell training can chang...</td>\n",
              "      <td>https://medium.com/neodotlife/mind-your-nose-f...</td>\n",
              "      <td>[]</td>\n",
              "      <td>2020-10-10 20:17:37.132000+00:00</td>\n",
              "      <td>['Biotechnology', 'Neuroscience', 'Brain', 'We...</td>\n",
              "    </tr>\n",
              "    <tr>\n",
              "      <th>3</th>\n",
              "      <td>The 4 Purposes of Dreams</td>\n",
              "      <td>Passionate about the synergy between science a...</td>\n",
              "      <td>https://medium.com/science-for-real/the-4-purp...</td>\n",
              "      <td>['Eshan Samaranayake']</td>\n",
              "      <td>2020-12-21 16:05:19.524000+00:00</td>\n",
              "      <td>['Health', 'Neuroscience', 'Mental Health', 'P...</td>\n",
              "    </tr>\n",
              "    <tr>\n",
              "      <th>4</th>\n",
              "      <td>Surviving a Rod Through the Head</td>\n",
              "      <td>You’ve heard of him, haven’t you? Phineas Gage...</td>\n",
              "      <td>https://medium.com/live-your-life-on-purpose/s...</td>\n",
              "      <td>['Rishav Sinha']</td>\n",
              "      <td>2020-02-26 00:01:01.576000+00:00</td>\n",
              "      <td>['Brain', 'Health', 'Development', 'Psychology...</td>\n",
              "    </tr>\n",
              "  </tbody>\n",
              "</table>\n",
              "</div>\n",
              "    <div class=\"colab-df-buttons\">\n",
              "\n",
              "  <div class=\"colab-df-container\">\n",
              "    <button class=\"colab-df-convert\" onclick=\"convertToInteractive('df-6fcc223b-5308-401b-abae-9b15e7a6de44')\"\n",
              "            title=\"Convert this dataframe to an interactive table.\"\n",
              "            style=\"display:none;\">\n",
              "\n",
              "  <svg xmlns=\"http://www.w3.org/2000/svg\" height=\"24px\" viewBox=\"0 -960 960 960\">\n",
              "    <path d=\"M120-120v-720h720v720H120Zm60-500h600v-160H180v160Zm220 220h160v-160H400v160Zm0 220h160v-160H400v160ZM180-400h160v-160H180v160Zm440 0h160v-160H620v160ZM180-180h160v-160H180v160Zm440 0h160v-160H620v160Z\"/>\n",
              "  </svg>\n",
              "    </button>\n",
              "\n",
              "  <style>\n",
              "    .colab-df-container {\n",
              "      display:flex;\n",
              "      gap: 12px;\n",
              "    }\n",
              "\n",
              "    .colab-df-convert {\n",
              "      background-color: #E8F0FE;\n",
              "      border: none;\n",
              "      border-radius: 50%;\n",
              "      cursor: pointer;\n",
              "      display: none;\n",
              "      fill: #1967D2;\n",
              "      height: 32px;\n",
              "      padding: 0 0 0 0;\n",
              "      width: 32px;\n",
              "    }\n",
              "\n",
              "    .colab-df-convert:hover {\n",
              "      background-color: #E2EBFA;\n",
              "      box-shadow: 0px 1px 2px rgba(60, 64, 67, 0.3), 0px 1px 3px 1px rgba(60, 64, 67, 0.15);\n",
              "      fill: #174EA6;\n",
              "    }\n",
              "\n",
              "    .colab-df-buttons div {\n",
              "      margin-bottom: 4px;\n",
              "    }\n",
              "\n",
              "    [theme=dark] .colab-df-convert {\n",
              "      background-color: #3B4455;\n",
              "      fill: #D2E3FC;\n",
              "    }\n",
              "\n",
              "    [theme=dark] .colab-df-convert:hover {\n",
              "      background-color: #434B5C;\n",
              "      box-shadow: 0px 1px 3px 1px rgba(0, 0, 0, 0.15);\n",
              "      filter: drop-shadow(0px 1px 2px rgba(0, 0, 0, 0.3));\n",
              "      fill: #FFFFFF;\n",
              "    }\n",
              "  </style>\n",
              "\n",
              "    <script>\n",
              "      const buttonEl =\n",
              "        document.querySelector('#df-6fcc223b-5308-401b-abae-9b15e7a6de44 button.colab-df-convert');\n",
              "      buttonEl.style.display =\n",
              "        google.colab.kernel.accessAllowed ? 'block' : 'none';\n",
              "\n",
              "      async function convertToInteractive(key) {\n",
              "        const element = document.querySelector('#df-6fcc223b-5308-401b-abae-9b15e7a6de44');\n",
              "        const dataTable =\n",
              "          await google.colab.kernel.invokeFunction('convertToInteractive',\n",
              "                                                    [key], {});\n",
              "        if (!dataTable) return;\n",
              "\n",
              "        const docLinkHtml = 'Like what you see? Visit the ' +\n",
              "          '<a target=\"_blank\" href=https://colab.research.google.com/notebooks/data_table.ipynb>data table notebook</a>'\n",
              "          + ' to learn more about interactive tables.';\n",
              "        element.innerHTML = '';\n",
              "        dataTable['output_type'] = 'display_data';\n",
              "        await google.colab.output.renderOutput(dataTable, element);\n",
              "        const docLink = document.createElement('div');\n",
              "        docLink.innerHTML = docLinkHtml;\n",
              "        element.appendChild(docLink);\n",
              "      }\n",
              "    </script>\n",
              "  </div>\n",
              "\n",
              "\n",
              "<div id=\"df-a3767653-ee77-4495-8513-665779e6ad30\">\n",
              "  <button class=\"colab-df-quickchart\" onclick=\"quickchart('df-a3767653-ee77-4495-8513-665779e6ad30')\"\n",
              "            title=\"Suggest charts\"\n",
              "            style=\"display:none;\">\n",
              "\n",
              "<svg xmlns=\"http://www.w3.org/2000/svg\" height=\"24px\"viewBox=\"0 0 24 24\"\n",
              "     width=\"24px\">\n",
              "    <g>\n",
              "        <path d=\"M19 3H5c-1.1 0-2 .9-2 2v14c0 1.1.9 2 2 2h14c1.1 0 2-.9 2-2V5c0-1.1-.9-2-2-2zM9 17H7v-7h2v7zm4 0h-2V7h2v10zm4 0h-2v-4h2v4z\"/>\n",
              "    </g>\n",
              "</svg>\n",
              "  </button>\n",
              "\n",
              "<style>\n",
              "  .colab-df-quickchart {\n",
              "      --bg-color: #E8F0FE;\n",
              "      --fill-color: #1967D2;\n",
              "      --hover-bg-color: #E2EBFA;\n",
              "      --hover-fill-color: #174EA6;\n",
              "      --disabled-fill-color: #AAA;\n",
              "      --disabled-bg-color: #DDD;\n",
              "  }\n",
              "\n",
              "  [theme=dark] .colab-df-quickchart {\n",
              "      --bg-color: #3B4455;\n",
              "      --fill-color: #D2E3FC;\n",
              "      --hover-bg-color: #434B5C;\n",
              "      --hover-fill-color: #FFFFFF;\n",
              "      --disabled-bg-color: #3B4455;\n",
              "      --disabled-fill-color: #666;\n",
              "  }\n",
              "\n",
              "  .colab-df-quickchart {\n",
              "    background-color: var(--bg-color);\n",
              "    border: none;\n",
              "    border-radius: 50%;\n",
              "    cursor: pointer;\n",
              "    display: none;\n",
              "    fill: var(--fill-color);\n",
              "    height: 32px;\n",
              "    padding: 0;\n",
              "    width: 32px;\n",
              "  }\n",
              "\n",
              "  .colab-df-quickchart:hover {\n",
              "    background-color: var(--hover-bg-color);\n",
              "    box-shadow: 0 1px 2px rgba(60, 64, 67, 0.3), 0 1px 3px 1px rgba(60, 64, 67, 0.15);\n",
              "    fill: var(--button-hover-fill-color);\n",
              "  }\n",
              "\n",
              "  .colab-df-quickchart-complete:disabled,\n",
              "  .colab-df-quickchart-complete:disabled:hover {\n",
              "    background-color: var(--disabled-bg-color);\n",
              "    fill: var(--disabled-fill-color);\n",
              "    box-shadow: none;\n",
              "  }\n",
              "\n",
              "  .colab-df-spinner {\n",
              "    border: 2px solid var(--fill-color);\n",
              "    border-color: transparent;\n",
              "    border-bottom-color: var(--fill-color);\n",
              "    animation:\n",
              "      spin 1s steps(1) infinite;\n",
              "  }\n",
              "\n",
              "  @keyframes spin {\n",
              "    0% {\n",
              "      border-color: transparent;\n",
              "      border-bottom-color: var(--fill-color);\n",
              "      border-left-color: var(--fill-color);\n",
              "    }\n",
              "    20% {\n",
              "      border-color: transparent;\n",
              "      border-left-color: var(--fill-color);\n",
              "      border-top-color: var(--fill-color);\n",
              "    }\n",
              "    30% {\n",
              "      border-color: transparent;\n",
              "      border-left-color: var(--fill-color);\n",
              "      border-top-color: var(--fill-color);\n",
              "      border-right-color: var(--fill-color);\n",
              "    }\n",
              "    40% {\n",
              "      border-color: transparent;\n",
              "      border-right-color: var(--fill-color);\n",
              "      border-top-color: var(--fill-color);\n",
              "    }\n",
              "    60% {\n",
              "      border-color: transparent;\n",
              "      border-right-color: var(--fill-color);\n",
              "    }\n",
              "    80% {\n",
              "      border-color: transparent;\n",
              "      border-right-color: var(--fill-color);\n",
              "      border-bottom-color: var(--fill-color);\n",
              "    }\n",
              "    90% {\n",
              "      border-color: transparent;\n",
              "      border-bottom-color: var(--fill-color);\n",
              "    }\n",
              "  }\n",
              "</style>\n",
              "\n",
              "  <script>\n",
              "    async function quickchart(key) {\n",
              "      const quickchartButtonEl =\n",
              "        document.querySelector('#' + key + ' button');\n",
              "      quickchartButtonEl.disabled = true;  // To prevent multiple clicks.\n",
              "      quickchartButtonEl.classList.add('colab-df-spinner');\n",
              "      try {\n",
              "        const charts = await google.colab.kernel.invokeFunction(\n",
              "            'suggestCharts', [key], {});\n",
              "      } catch (error) {\n",
              "        console.error('Error during call to suggestCharts:', error);\n",
              "      }\n",
              "      quickchartButtonEl.classList.remove('colab-df-spinner');\n",
              "      quickchartButtonEl.classList.add('colab-df-quickchart-complete');\n",
              "    }\n",
              "    (() => {\n",
              "      let quickchartButtonEl =\n",
              "        document.querySelector('#df-a3767653-ee77-4495-8513-665779e6ad30 button');\n",
              "      quickchartButtonEl.style.display =\n",
              "        google.colab.kernel.accessAllowed ? 'block' : 'none';\n",
              "    })();\n",
              "  </script>\n",
              "</div>\n",
              "\n",
              "    </div>\n",
              "  </div>\n"
            ],
            "application/vnd.google.colaboratory.intrinsic+json": {
              "type": "dataframe",
              "variable_name": "df"
            }
          },
          "metadata": {},
          "execution_count": 6
        }
      ]
    },
    {
      "cell_type": "code",
      "source": [
        "df=df[['title','text']]\n",
        "df.shape"
      ],
      "metadata": {
        "id": "UN7YaNagDAwj",
        "outputId": "1aeef4eb-a929-4d08-b380-695421abb94b",
        "colab": {
          "base_uri": "https://localhost:8080/"
        }
      },
      "execution_count": null,
      "outputs": [
        {
          "output_type": "execute_result",
          "data": {
            "text/plain": [
              "(192368, 2)"
            ]
          },
          "metadata": {},
          "execution_count": 7
        }
      ]
    },
    {
      "cell_type": "code",
      "source": [
        "df=df[['title','text']]\n",
        "df.shape"
      ],
      "metadata": {
        "id": "iy0Ve9YNDHeI",
        "outputId": "a10462a5-c879-43b8-daaa-ed3cfffecad2",
        "colab": {
          "base_uri": "https://localhost:8080/"
        }
      },
      "execution_count": null,
      "outputs": [
        {
          "output_type": "execute_result",
          "data": {
            "text/plain": [
              "(192368, 2)"
            ]
          },
          "metadata": {},
          "execution_count": 8
        }
      ]
    },
    {
      "cell_type": "code",
      "source": [
        "df['text']=df['text'].str.replace('\\n','<|n|>')\n"
      ],
      "metadata": {
        "id": "qeS8kJZVDLMI"
      },
      "execution_count": null,
      "outputs": []
    },
    {
      "cell_type": "code",
      "source": [
        "sample_blog=df['text'][10]\n",
        "print(sample_blog)"
      ],
      "metadata": {
        "id": "FONUDHCMDOhQ",
        "outputId": "fdc6d927-6330-498b-f406-8adee769981e",
        "colab": {
          "base_uri": "https://localhost:8080/"
        }
      },
      "execution_count": null,
      "outputs": [
        {
          "output_type": "stream",
          "name": "stdout",
          "text": [
            "Photo credit: Leo Leung<|n|><|n|>People want to know why you do what you do.<|n|><|n|>If you’re an entrepreneur, your investors, customers, and employees want to know why you founded your company. Apply for a job, and recruiters ask about your career path. If you’re a freelancer, everyone is curious about how you got started.<|n|><|n|>Why do we crave origin stories? Because they reveal character. Superman is a good guy because his planet exploded, his parents sent him to Earth, and the Kents raised him to fight evil. Steve Jobs became a trusted CEO, in part, by bouncing back from failure. My dad thrived as a home builder, but only after terminating a partnership with a prominent colleague whose practices he found unethical.<|n|><|n|>In other words:<|n|><|n|>Your origin story helps people decide whether or not to trust you.<|n|><|n|>How to Craft a Powerful Origin Story: The 5 Essential Elements<|n|><|n|>In strategic messaging and positioning engagements with CEOs, as well as business storytelling workshops for teams, I’ve helped hundreds of people construct origin stories. The best instantly convey not only trustworthiness, but also traits like commitment, persistence, and curiosity.<|n|><|n|>So what makes a great origin story work?<|n|><|n|>At the heart of every great origin story is a single event that forever changes the course of the teller’s life. Typically it arises out of failure or disappointment; sometimes it’s an unexpected discovery. Very frequently, another person illuminates a new way forward.<|n|><|n|>Can you pinpoint the event that set you on your current path? (Yes, we all have one.) The event doesn’t have to be life-changing in the “I won the lottery” sense (though congrats if that happened). It just has to reorient you towards what you’re doing now.<|n|><|n|>Once you’ve identified your event, construct your origin story around it using the following five components, and tell it in this order:<|n|><|n|>1. Once upon a time…<|n|><|n|>How was your life before the life-changing event? Most importantly, what did you want back then? Share relevant details: How old were you? Where did you live? When did this happen? (No, you don’t literally have to start with “Once upon a time…”)<|n|><|n|>For example, here’s the “Once upon a time…” for my origin story:<|n|><|n|>Back in the dot-com years, I was living in Manhattan, struggling to fund my startup. It was not going well. One VC attached a hand-written note to his standard rejection letter: “Andy, I rate every business plan I receive on a scale of one to 10. Yours is a one.” At the bottom, he wrote, “P.S. Not a compelling story.”<|n|><|n|>2. “Then one day…”<|n|><|n|>Next, describe your life-changing event. If possible, tell this section as a scene with details that the listener can sense (visualize, hear, smell, etc.). Again, here’s mine:<|n|><|n|>One day, I’m walking up Broadway, when I notice a huge sign in the window of a Barnes and Noble. The sign says, “For anyone who wants to tell a compelling story,” and it’s pointing to a book about screenwriting. I buy the book.<|n|><|n|>3. “Because of that…”<|n|><|n|>What relevant events were then set in motion? What obstacles did you have to overcome? Basically, describe what happened next:<|n|><|n|>That night, I read the book from cover to cover. It’s written in the language of feature films (three act structure, etc.), but much of it seems to apply to telling the story of a startup. I rewrite my pitch and send it to a new batch of investors.<|n|><|n|>4. “Until finally…”<|n|><|n|>What was the turning point — the moment when you really committed to the new path? It’s especially effective to reflect here on how you changed and what you learned:<|n|><|n|>After receiving the revised pitch, several investor groups invite my team to their offices, and four months later we have a term sheet from a prominent Silicon Valley venture firm. The numbers, the team — all remained same. The only thing that changed was how we told our story.<|n|><|n|>5. “So now…”<|n|><|n|>Last but not least, describe what you do now, and connect it to the story.<|n|><|n|>So now I help leadership teams craft strategic messaging and positioning, which is really just their story — the story they use to power fundraising, sales, marketing, recruiting, and product. I also teach storytelling workshops for teams. And I can trace it all back to my failed pitch.<|n|><|n|>Swap Origin Stories with Others to Quickly Build Stronger Relationships<|n|><|n|>Once you’ve drafted your own origin story, tell it a few times to see what works. That’s not to say you should introduce yourself to strangers with “Once upon a time...” But if you’re embarking on a relationship with someone new — a customer, a prospect, an investor— and they ask, try it out. Pay particular attention to where they lean in.<|n|><|n|>Also, ask others to tell you their origin stories. Listen closely, and you’ll quickly learn about their character, values and desires, which can be helpful in all sorts of relationships.<|n|><|n|>As one woman in my recent General Assembly workshop said after swapping origin stories with a classmate: “There’s something about sharing these stories that makes me feel instantly connected.”\n"
          ]
        }
      ]
    },
    {
      "cell_type": "code",
      "source": [
        "!pip install nltk\n"
      ],
      "metadata": {
        "id": "-5-9nqKmDS70",
        "outputId": "4ecf5304-2b0c-4b65-9ed3-561224f55788",
        "colab": {
          "base_uri": "https://localhost:8080/"
        }
      },
      "execution_count": null,
      "outputs": [
        {
          "output_type": "stream",
          "name": "stdout",
          "text": [
            "Requirement already satisfied: nltk in /usr/local/lib/python3.10/dist-packages (3.8.1)\n",
            "Requirement already satisfied: click in /usr/local/lib/python3.10/dist-packages (from nltk) (8.1.7)\n",
            "Requirement already satisfied: joblib in /usr/local/lib/python3.10/dist-packages (from nltk) (1.4.2)\n",
            "Requirement already satisfied: regex>=2021.8.3 in /usr/local/lib/python3.10/dist-packages (from nltk) (2024.5.15)\n",
            "Requirement already satisfied: tqdm in /usr/local/lib/python3.10/dist-packages (from nltk) (4.66.5)\n"
          ]
        }
      ]
    },
    {
      "source": [
        "import nltk # imports the nltk library\n",
        "import re\n",
        "from nltk.tokenize import sent_tokenize\n",
        "from nltk.corpus import stopwords\n",
        "from gensim.models import Word2Vec\n",
        "import numpy as np\n",
        "\n",
        "nltk.download('punkt') # downloads the punkt sentence tokenizer models\n",
        "nltk.download('stopwords') # downloads the stopwords corpus\n",
        "\n",
        "sentences=sent_tokenize(sample_blog)\n",
        "sentences_clean=[re.sub(r'[^\\w\\s]','',sentence.lower()) for sentence in sentences]\n",
        "stop_words = stopwords.words('english')\n",
        "sentence_tokens=[[words for words in sentence.split(' ') if words not in stop_words]\n",
        "for sentence in sentences_clean]\n",
        "w2v=Word2Vec(sentence_tokens,vector_size=1,min_count=1,epochs=1000)\n",
        "sentence_embeddings=[[w2v.wv.get_vector(word)[0] for word in words] for words in sentence_tokens]\n",
        "max_len=max([len(tokens) for tokens in sentence_tokens])\n",
        "sentence_embeddings=[np.pad(embedding,(0,max_len-len(embedding)),'constant') for embedding in sentence_embeddings]"
      ],
      "cell_type": "code",
      "metadata": {
        "id": "vkC21SdUDylb",
        "outputId": "5c86c588-e163-4b54-d9d6-53dc0badab0b",
        "colab": {
          "base_uri": "https://localhost:8080/"
        }
      },
      "execution_count": null,
      "outputs": [
        {
          "output_type": "stream",
          "name": "stderr",
          "text": [
            "[nltk_data] Downloading package punkt to /root/nltk_data...\n",
            "[nltk_data]   Package punkt is already up-to-date!\n",
            "[nltk_data] Downloading package stopwords to /root/nltk_data...\n",
            "[nltk_data]   Package stopwords is already up-to-date!\n"
          ]
        }
      ]
    },
    {
      "cell_type": "code",
      "source": [
        "simiarity_matrix = np.zeros([len(sentence_tokens), len(sentence_tokens)]) # misspelled variable name\n",
        "for i,row_embedding in enumerate(sentence_embeddings):\n",
        "    for j,column_embedding in enumerate(sentence_embeddings):\n",
        "        simiarity_matrix[i][j]=1-spatial.distance.cosine(row_embedding,column_embedding)\n",
        "nx_graph = nx.from_numpy_array(simiarity_matrix) # use the correctly spelled variable name\n",
        "scores=nx.pagerank(nx_graph,max_iter=600)\n",
        "top_sentence={sentence:scores[index] for index,sentence in enumerate(sentences)}\n",
        "sentNeeded= round(0.25*len(sentences))-1\n",
        "top=dict(sorted(top_sentence.items(), key=lambda x: x[1], reverse=True)[:sentNeeded])\n",
        "summary=\"\"\n",
        "for sent in sentences:\n",
        "  if sent in top.keys():\n",
        "    summary+= sent\n",
        "print(summary)"
      ],
      "metadata": {
        "id": "jZzZNTQPD1yH",
        "outputId": "f3949c93-1146-49af-c329-0415d07b2846",
        "colab": {
          "base_uri": "https://localhost:8080/"
        }
      },
      "execution_count": null,
      "outputs": [
        {
          "output_type": "stream",
          "name": "stdout",
          "text": [
            "Apply for a job, and recruiters ask about your career path.If you’re a freelancer, everyone is curious about how you got started.<|n|><|n|>Why do we crave origin stories?Steve Jobs became a trusted CEO, in part, by bouncing back from failure.Very frequently, another person illuminates a new way forward.<|n|><|n|>Can you pinpoint the event that set you on your current path?The sign says, “For anyone who wants to tell a compelling story,” and it’s pointing to a book about screenwriting.Basically, describe what happened next:<|n|><|n|>That night, I read the book from cover to cover.It’s written in the language of feature films (three act structure, etc.I rewrite my pitch and send it to a new batch of investors.<|n|><|n|>4.“Until finally…”<|n|><|n|>What was the turning point — the moment when you really committed to the new path?Pay particular attention to where they lean in.<|n|><|n|>Also, ask others to tell you their origin stories.\n"
          ]
        }
      ]
    },
    {
      "source": [
        "simiarity_matrix = np.zeros([len(sentence_tokens), len(sentence_tokens)]) # misspelled variable name\n",
        "for i,row_embedding in enumerate(sentence_embeddings):\n",
        "    for j,column_embedding in enumerate(sentence_embeddings):\n",
        "        # Calculate the mean of the word embeddings for each sentence\n",
        "        row_mean = np.mean(row_embedding, axis=0)\n",
        "        column_mean = np.mean(column_embedding, axis=0)\n",
        "        # Check if row_mean and column_mean are scalars\n",
        "        if row_mean.ndim == 0:\n",
        "            row_mean = np.expand_dims(row_mean, axis=0)\n",
        "        if column_mean.ndim == 0:\n",
        "            column_mean = np.expand_dims(column_mean, axis=0)\n",
        "        simiarity_matrix[i][j]=1-spatial.distance.cosine(row_mean,column_mean)\n",
        "\n",
        "# Print the similarity matrix\n",
        "print(\"Similarity Matrix:\")\n",
        "print(simiarity_matrix)\n",
        "\n",
        "nx_graph = nx.from_numpy_array(simiarity_matrix) # use the correctly spelled variable name\n",
        "scores=nx.pagerank(nx_graph,max_iter=600)\n",
        "\n",
        "# Print the PageRank scores\n",
        "print(\"\\nPageRank Scores:\")\n",
        "for index, sentence in enumerate(sentences):\n",
        "    print(f\"{sentence}: {scores[index]}\")\n",
        "\n",
        "top_sentence={sentence:scores[index] for index,sentence in enumerate(sentences)}\n",
        "sentNeeded= round(0.25*len(sentences))-1\n",
        "top=dict(sorted(top_sentence.items(), key=lambda x: x[1], reverse=True)[:sentNeeded])\n",
        "summary=\"\"\n",
        "for sent in sentences:\n",
        "  if sent in top.keys():\n",
        "    summary+= sent\n",
        "\n",
        "# Print the summary\n",
        "print(\"\\nSummary:\")\n",
        "print(summary)"
      ],
      "cell_type": "code",
      "metadata": {
        "id": "JxrcH27GEGRg",
        "outputId": "076680b9-1edd-45e7-aa8f-d94a3763b33b",
        "colab": {
          "base_uri": "https://localhost:8080/"
        }
      },
      "execution_count": null,
      "outputs": [
        {
          "output_type": "stream",
          "name": "stdout",
          "text": [
            "Similarity Matrix:\n",
            "[[1.         0.99999999 1.         ... 1.         0.99999999 1.        ]\n",
            " [0.99999999 1.         1.         ... 0.99999998 0.9999999  0.99999994]\n",
            " [1.         1.         1.         ... 1.         1.         0.99999998]\n",
            " ...\n",
            " [1.         0.99999998 1.         ... 1.         0.99999996 1.        ]\n",
            " [0.99999999 0.9999999  1.         ... 0.99999996 0.99999998 0.99999994]\n",
            " [1.         0.99999994 0.99999998 ... 1.         0.99999994 0.99999999]]\n",
            "\n",
            "PageRank Scores:\n",
            "Photo credit: Leo Leung<|n|><|n|>People want to know why you do what you do.<|n|><|n|>If you’re an entrepreneur, your investors, customers, and employees want to know why you founded your company.: 0.02364718620808374\n",
            "Apply for a job, and recruiters ask about your career path.: 0.023647185945244047\n",
            "If you’re a freelancer, everyone is curious about how you got started.<|n|><|n|>Why do we crave origin stories?: 0.02364718633224591\n",
            "Because they reveal character.: 0.023647186211972256\n",
            "Superman is a good guy because his planet exploded, his parents sent him to Earth, and the Kents raised him to fight evil.: 0.02364718616537856\n",
            "Steve Jobs became a trusted CEO, in part, by bouncing back from failure.: 0.023647186318239432\n",
            "My dad thrived as a home builder, but only after terminating a partnership with a prominent colleague whose practices he found unethical.<|n|><|n|>In other words:<|n|><|n|>Your origin story helps people decide whether or not to trust you.<|n|><|n|>How to Craft a Powerful Origin Story: The 5 Essential Elements<|n|><|n|>In strategic messaging and positioning engagements with CEOs, as well as business storytelling workshops for teams, I’ve helped hundreds of people construct origin stories.: 0.023647186309980455\n",
            "The best instantly convey not only trustworthiness, but also traits like commitment, persistence, and curiosity.<|n|><|n|>So what makes a great origin story work?<|n|><|n|>At the heart of every great origin story is a single event that forever changes the course of the teller’s life.: 0.02364718612754432\n",
            "Typically it arises out of failure or disappointment; sometimes it’s an unexpected discovery.: 0.023647186033310116\n",
            "Very frequently, another person illuminates a new way forward.<|n|><|n|>Can you pinpoint the event that set you on your current path?: 0.02364718601567588\n",
            "(Yes, we all have one.): 0.02364718611779945\n",
            "The event doesn’t have to be life-changing in the “I won the lottery” sense (though congrats if that happened).: 0.02364718636349283\n",
            "It just has to reorient you towards what you’re doing now.<|n|><|n|>Once you’ve identified your event, construct your origin story around it using the following five components, and tell it in this order:<|n|><|n|>1.: 0.023647186247372273\n",
            "Once upon a time…<|n|><|n|>How was your life before the life-changing event?: 0.023647186139356773\n",
            "Most importantly, what did you want back then?: 0.023647186399944214\n",
            "Share relevant details: How old were you?: 0.023647186058767422\n",
            "Where did you live?: -0.01682900425499878\n",
            "When did this happen?: 0.023647185914255284\n",
            "(No, you don’t literally have to start with “Once upon a time…”)<|n|><|n|>For example, here’s the “Once upon a time…” for my origin story:<|n|><|n|>Back in the dot-com years, I was living in Manhattan, struggling to fund my startup.: 0.02364718590975339\n",
            "It was not going well.: 0.023647186197068407\n",
            "One VC attached a hand-written note to his standard rejection letter: “Andy, I rate every business plan I receive on a scale of one to 10.: 0.023647186070503708\n",
            "Yours is a one.” At the bottom, he wrote, “P.S.: 0.023647186117206558\n",
            "Not a compelling story.”<|n|><|n|>2.: 0.023647186361429262\n",
            "“Then one day…”<|n|><|n|>Next, describe your life-changing event.: 0.02364718606928339\n",
            "If possible, tell this section as a scene with details that the listener can sense (visualize, hear, smell, etc.).: 0.023647186007121766\n",
            "Again, here’s mine:<|n|><|n|>One day, I’m walking up Broadway, when I notice a huge sign in the window of a Barnes and Noble.: 0.023647186278601934\n",
            "The sign says, “For anyone who wants to tell a compelling story,” and it’s pointing to a book about screenwriting.: 0.023647186115465204\n",
            "I buy the book.<|n|><|n|>3.: 0.023647186325608232\n",
            "“Because of that…”<|n|><|n|>What relevant events were then set in motion?: 0.02364718630922412\n",
            "What obstacles did you have to overcome?: 0.023647185937298875\n",
            "Basically, describe what happened next:<|n|><|n|>That night, I read the book from cover to cover.: 0.023647186179919386\n",
            "It’s written in the language of feature films (three act structure, etc.: 0.02364718617375548\n",
            "), but much of it seems to apply to telling the story of a startup.: 0.023647186050446398\n",
            "I rewrite my pitch and send it to a new batch of investors.<|n|><|n|>4.: 0.023647186118787827\n",
            "“Until finally…”<|n|><|n|>What was the turning point — the moment when you really committed to the new path?: 0.02364718619928805\n",
            "It’s especially effective to reflect here on how you changed and what you learned:<|n|><|n|>After receiving the revised pitch, several investor groups invite my team to their offices, and four months later we have a term sheet from a prominent Silicon Valley venture firm.: 0.02364718628830546\n",
            "The numbers, the team — all remained same.: 0.023647185913778228\n",
            "The only thing that changed was how we told our story.<|n|><|n|>5.: 0.023647186034765386\n",
            "“So now…”<|n|><|n|>Last but not least, describe what you do now, and connect it to the story.<|n|><|n|>So now I help leadership teams craft strategic messaging and positioning, which is really just their story — the story they use to power fundraising, sales, marketing, recruiting, and product.: 0.02364718626237587\n",
            "I also teach storytelling workshops for teams.: 0.02364718601331249\n",
            "And I can trace it all back to my failed pitch.<|n|><|n|>Swap Origin Stories with Others to Quickly Build Stronger Relationships<|n|><|n|>Once you’ve drafted your own origin story, tell it a few times to see what works.: 0.023647186389771268\n",
            "That’s not to say you should introduce yourself to strangers with “Once upon a time...” But if you’re embarking on a relationship with someone new — a customer, a prospect, an investor— and they ask, try it out.: 0.02364718606730192\n",
            "Pay particular attention to where they lean in.<|n|><|n|>Also, ask others to tell you their origin stories.: 0.023647185937610345\n",
            "Listen closely, and you’ll quickly learn about their character, values and desires, which can be helpful in all sorts of relationships.<|n|><|n|>As one woman in my recent General Assembly workshop said after swapping origin stories with a classmate: “There’s something about sharing these stories that makes me feel instantly connected.”: 0.023647186018352896\n",
            "\n",
            "Summary:\n",
            "If you’re a freelancer, everyone is curious about how you got started.<|n|><|n|>Why do we crave origin stories?Steve Jobs became a trusted CEO, in part, by bouncing back from failure.My dad thrived as a home builder, but only after terminating a partnership with a prominent colleague whose practices he found unethical.<|n|><|n|>In other words:<|n|><|n|>Your origin story helps people decide whether or not to trust you.<|n|><|n|>How to Craft a Powerful Origin Story: The 5 Essential Elements<|n|><|n|>In strategic messaging and positioning engagements with CEOs, as well as business storytelling workshops for teams, I’ve helped hundreds of people construct origin stories.The event doesn’t have to be life-changing in the “I won the lottery” sense (though congrats if that happened).Most importantly, what did you want back then?Not a compelling story.”<|n|><|n|>2.I buy the book.<|n|><|n|>3.“Because of that…”<|n|><|n|>What relevant events were then set in motion?It’s especially effective to reflect here on how you changed and what you learned:<|n|><|n|>After receiving the revised pitch, several investor groups invite my team to their offices, and four months later we have a term sheet from a prominent Silicon Valley venture firm.And I can trace it all back to my failed pitch.<|n|><|n|>Swap Origin Stories with Others to Quickly Build Stronger Relationships<|n|><|n|>Once you’ve drafted your own origin story, tell it a few times to see what works.\n"
          ]
        }
      ]
    },
    {
      "cell_type": "code",
      "source": [
        "import re\n",
        "\n",
        "from nltk.tokenize import sent_tokenize\n",
        "\n",
        "from nltk.corpus import stopwords\n",
        "\n",
        "from gensim.models import Word2Vec\n",
        "\n",
        "from scipy import spatial\n",
        "!pip install --upgrade networkx\n",
        "\n",
        "\n",
        "import networkx as nx\n",
        "import csv"
      ],
      "metadata": {
        "id": "69mVybKYEI9P",
        "outputId": "50d7e1cc-c176-475b-aa29-eaa14bf87688",
        "colab": {
          "base_uri": "https://localhost:8080/"
        }
      },
      "execution_count": null,
      "outputs": [
        {
          "output_type": "stream",
          "name": "stdout",
          "text": [
            "Requirement already satisfied: networkx in /usr/local/lib/python3.10/dist-packages (3.3)\n"
          ]
        }
      ]
    },
    {
      "cell_type": "code",
      "source": [
        "count=0\n",
        "def generateSummary(blog):\n",
        "  global count\n",
        "  count+=1\n",
        "  print(\"Summarising blog\", count)\n",
        "  try:\n",
        "    sentences=sent_tokenize(blog)\n",
        "    sentences_clean=[re.sub(r'[^\\w\\s]','',sentence.lower()) for sentence in sentences]\n",
        "    stop_words = stopwords.words('english')\n",
        "    sentence_tokens=[[words for words in sentence.split(' ') if words not in stop_words] for sentence in sentences_clean]\n",
        "    w2v=Word2Vec(sentence_tokens,vector_size=1,min_count=1,epochs=1000) # Removed the extra indent from this line.\n",
        "    sentence_embeddings=[[w2v.wv.get_vector(word)[0] for word in words] for words in sentence_tokens]\n",
        "    max_len=max([len(tokens) for tokens in sentence_tokens])\n",
        "    sentence_embeddings=[np.pad(embedding,(0,max_len-len(embedding)),'constant') for embedding in sentence_embeddings]\n",
        "    simiarity_matrix = np.zeros([len(sentence_tokens), len(sentence_tokens)])\n",
        "    for i,row_embedding in enumerate(sentence_embeddings):\n",
        "      for j,column_embedding in enumerate(sentence_embeddings):\n",
        "        simiarity_matrix[i][j]=1-spatial.distance.cosine(row_embedding,columwn_embedding)\n",
        "        nx_graph = nx.from_numpy_array(simiarity_matrix)\n",
        "        scores=nx.pagerank(nx_graph,max_iter=600)\n",
        "        top_sentence={sentence:scores[index] for index,sentence in enumerate(sentences)}\n",
        "        sentNeeded= round(0.25*len(sentences))-1\n",
        "        top=dict(sorted(top_sentence.items(), key=lambda x: x[1], reverse=True)[:sentNeeded])\n",
        "        summary=\"\"\n",
        "        for sent in sentences:\n",
        "          if sent in top.keys():\n",
        "            summary+= sent\n",
        "            return summary\n",
        "  except:\n",
        "    return float(\"NaN\")\n",
        "import pandas as pd\n",
        "import math\n",
        "\n",
        "filename = \"articlesSet.csv\"\n",
        "fields = ['title', 'summary', 'content']\n",
        "\n",
        "# Load your data into the DataFrame\n",
        "df = pd.read_csv('/kaggle/input/medium-articles/medium_articles.csv')  # Replace with your actual file\n",
        "\n",
        "with open(filename, 'a') as csvfile:\n",
        "    csvwriter = csv.writer(csvfile)\n",
        "    csvwriter.writerow(fields)\n",
        "\n",
        "    def callback(row):\n",
        "        summary = generateSummary(row['text'])\n",
        "        if type(summary) != str:\n",
        "            return\n",
        "        rows = [row['title'], summary, row['text']]\n",
        "        csvwriter.writerow(rows)\n",
        "\n",
        "    df.apply(callback, axis=1)\n"
      ],
      "metadata": {
        "id": "i3LOBNJOEUdz",
        "outputId": "7d951013-c6a5-4750-cd3c-da8b3319eb8a",
        "colab": {
          "base_uri": "https://localhost:8080/",
          "height": 582
        }
      },
      "execution_count": null,
      "outputs": [
        {
          "output_type": "error",
          "ename": "ParserError",
          "evalue": "Error tokenizing data. C error: Calling read(nbytes) on source failed. Try engine='python'.",
          "traceback": [
            "\u001b[0;31m---------------------------------------------------------------------------\u001b[0m",
            "\u001b[0;31mParserError\u001b[0m                               Traceback (most recent call last)",
            "\u001b[0;32m<ipython-input-7-8b4bdf686854>\u001b[0m in \u001b[0;36m<cell line: 38>\u001b[0;34m()\u001b[0m\n\u001b[1;32m     36\u001b[0m \u001b[0;34m\u001b[0m\u001b[0m\n\u001b[1;32m     37\u001b[0m \u001b[0;31m# Load your data into the DataFrame\u001b[0m\u001b[0;34m\u001b[0m\u001b[0;34m\u001b[0m\u001b[0m\n\u001b[0;32m---> 38\u001b[0;31m \u001b[0mdf\u001b[0m \u001b[0;34m=\u001b[0m \u001b[0mpd\u001b[0m\u001b[0;34m.\u001b[0m\u001b[0mread_csv\u001b[0m\u001b[0;34m(\u001b[0m\u001b[0;34m'/kaggle/input/medium-articles/medium_articles.csv'\u001b[0m\u001b[0;34m)\u001b[0m  \u001b[0;31m# Replace with your actual file\u001b[0m\u001b[0;34m\u001b[0m\u001b[0;34m\u001b[0m\u001b[0m\n\u001b[0m\u001b[1;32m     39\u001b[0m \u001b[0;34m\u001b[0m\u001b[0m\n\u001b[1;32m     40\u001b[0m \u001b[0;32mwith\u001b[0m \u001b[0mopen\u001b[0m\u001b[0;34m(\u001b[0m\u001b[0mfilename\u001b[0m\u001b[0;34m,\u001b[0m \u001b[0;34m'a'\u001b[0m\u001b[0;34m)\u001b[0m \u001b[0;32mas\u001b[0m \u001b[0mcsvfile\u001b[0m\u001b[0;34m:\u001b[0m\u001b[0;34m\u001b[0m\u001b[0;34m\u001b[0m\u001b[0m\n",
            "\u001b[0;32m/usr/local/lib/python3.10/dist-packages/pandas/io/parsers/readers.py\u001b[0m in \u001b[0;36mread_csv\u001b[0;34m(filepath_or_buffer, sep, delimiter, header, names, index_col, usecols, dtype, engine, converters, true_values, false_values, skipinitialspace, skiprows, skipfooter, nrows, na_values, keep_default_na, na_filter, verbose, skip_blank_lines, parse_dates, infer_datetime_format, keep_date_col, date_parser, date_format, dayfirst, cache_dates, iterator, chunksize, compression, thousands, decimal, lineterminator, quotechar, quoting, doublequote, escapechar, comment, encoding, encoding_errors, dialect, on_bad_lines, delim_whitespace, low_memory, memory_map, float_precision, storage_options, dtype_backend)\u001b[0m\n\u001b[1;32m    946\u001b[0m     \u001b[0mkwds\u001b[0m\u001b[0;34m.\u001b[0m\u001b[0mupdate\u001b[0m\u001b[0;34m(\u001b[0m\u001b[0mkwds_defaults\u001b[0m\u001b[0;34m)\u001b[0m\u001b[0;34m\u001b[0m\u001b[0;34m\u001b[0m\u001b[0m\n\u001b[1;32m    947\u001b[0m \u001b[0;34m\u001b[0m\u001b[0m\n\u001b[0;32m--> 948\u001b[0;31m     \u001b[0;32mreturn\u001b[0m \u001b[0m_read\u001b[0m\u001b[0;34m(\u001b[0m\u001b[0mfilepath_or_buffer\u001b[0m\u001b[0;34m,\u001b[0m \u001b[0mkwds\u001b[0m\u001b[0;34m)\u001b[0m\u001b[0;34m\u001b[0m\u001b[0;34m\u001b[0m\u001b[0m\n\u001b[0m\u001b[1;32m    949\u001b[0m \u001b[0;34m\u001b[0m\u001b[0m\n\u001b[1;32m    950\u001b[0m \u001b[0;34m\u001b[0m\u001b[0m\n",
            "\u001b[0;32m/usr/local/lib/python3.10/dist-packages/pandas/io/parsers/readers.py\u001b[0m in \u001b[0;36m_read\u001b[0;34m(filepath_or_buffer, kwds)\u001b[0m\n\u001b[1;32m    615\u001b[0m \u001b[0;34m\u001b[0m\u001b[0m\n\u001b[1;32m    616\u001b[0m     \u001b[0;32mwith\u001b[0m \u001b[0mparser\u001b[0m\u001b[0;34m:\u001b[0m\u001b[0;34m\u001b[0m\u001b[0;34m\u001b[0m\u001b[0m\n\u001b[0;32m--> 617\u001b[0;31m         \u001b[0;32mreturn\u001b[0m \u001b[0mparser\u001b[0m\u001b[0;34m.\u001b[0m\u001b[0mread\u001b[0m\u001b[0;34m(\u001b[0m\u001b[0mnrows\u001b[0m\u001b[0;34m)\u001b[0m\u001b[0;34m\u001b[0m\u001b[0;34m\u001b[0m\u001b[0m\n\u001b[0m\u001b[1;32m    618\u001b[0m \u001b[0;34m\u001b[0m\u001b[0m\n\u001b[1;32m    619\u001b[0m \u001b[0;34m\u001b[0m\u001b[0m\n",
            "\u001b[0;32m/usr/local/lib/python3.10/dist-packages/pandas/io/parsers/readers.py\u001b[0m in \u001b[0;36mread\u001b[0;34m(self, nrows)\u001b[0m\n\u001b[1;32m   1746\u001b[0m                     \u001b[0mcolumns\u001b[0m\u001b[0;34m,\u001b[0m\u001b[0;34m\u001b[0m\u001b[0;34m\u001b[0m\u001b[0m\n\u001b[1;32m   1747\u001b[0m                     \u001b[0mcol_dict\u001b[0m\u001b[0;34m,\u001b[0m\u001b[0;34m\u001b[0m\u001b[0;34m\u001b[0m\u001b[0m\n\u001b[0;32m-> 1748\u001b[0;31m                 \u001b[0;34m)\u001b[0m \u001b[0;34m=\u001b[0m \u001b[0mself\u001b[0m\u001b[0;34m.\u001b[0m\u001b[0m_engine\u001b[0m\u001b[0;34m.\u001b[0m\u001b[0mread\u001b[0m\u001b[0;34m(\u001b[0m  \u001b[0;31m# type: ignore[attr-defined]\u001b[0m\u001b[0;34m\u001b[0m\u001b[0;34m\u001b[0m\u001b[0m\n\u001b[0m\u001b[1;32m   1749\u001b[0m                     \u001b[0mnrows\u001b[0m\u001b[0;34m\u001b[0m\u001b[0;34m\u001b[0m\u001b[0m\n\u001b[1;32m   1750\u001b[0m                 )\n",
            "\u001b[0;32m/usr/local/lib/python3.10/dist-packages/pandas/io/parsers/c_parser_wrapper.py\u001b[0m in \u001b[0;36mread\u001b[0;34m(self, nrows)\u001b[0m\n\u001b[1;32m    232\u001b[0m         \u001b[0;32mtry\u001b[0m\u001b[0;34m:\u001b[0m\u001b[0;34m\u001b[0m\u001b[0;34m\u001b[0m\u001b[0m\n\u001b[1;32m    233\u001b[0m             \u001b[0;32mif\u001b[0m \u001b[0mself\u001b[0m\u001b[0;34m.\u001b[0m\u001b[0mlow_memory\u001b[0m\u001b[0;34m:\u001b[0m\u001b[0;34m\u001b[0m\u001b[0;34m\u001b[0m\u001b[0m\n\u001b[0;32m--> 234\u001b[0;31m                 \u001b[0mchunks\u001b[0m \u001b[0;34m=\u001b[0m \u001b[0mself\u001b[0m\u001b[0;34m.\u001b[0m\u001b[0m_reader\u001b[0m\u001b[0;34m.\u001b[0m\u001b[0mread_low_memory\u001b[0m\u001b[0;34m(\u001b[0m\u001b[0mnrows\u001b[0m\u001b[0;34m)\u001b[0m\u001b[0;34m\u001b[0m\u001b[0;34m\u001b[0m\u001b[0m\n\u001b[0m\u001b[1;32m    235\u001b[0m                 \u001b[0;31m# destructive to chunks\u001b[0m\u001b[0;34m\u001b[0m\u001b[0;34m\u001b[0m\u001b[0m\n\u001b[1;32m    236\u001b[0m                 \u001b[0mdata\u001b[0m \u001b[0;34m=\u001b[0m \u001b[0m_concatenate_chunks\u001b[0m\u001b[0;34m(\u001b[0m\u001b[0mchunks\u001b[0m\u001b[0;34m)\u001b[0m\u001b[0;34m\u001b[0m\u001b[0;34m\u001b[0m\u001b[0m\n",
            "\u001b[0;32mparsers.pyx\u001b[0m in \u001b[0;36mpandas._libs.parsers.TextReader.read_low_memory\u001b[0;34m()\u001b[0m\n",
            "\u001b[0;32mparsers.pyx\u001b[0m in \u001b[0;36mpandas._libs.parsers.TextReader._read_rows\u001b[0;34m()\u001b[0m\n",
            "\u001b[0;32mparsers.pyx\u001b[0m in \u001b[0;36mpandas._libs.parsers.TextReader._tokenize_rows\u001b[0;34m()\u001b[0m\n",
            "\u001b[0;32mparsers.pyx\u001b[0m in \u001b[0;36mpandas._libs.parsers.TextReader._check_tokenize_status\u001b[0;34m()\u001b[0m\n",
            "\u001b[0;32mparsers.pyx\u001b[0m in \u001b[0;36mpandas._libs.parsers.raise_parser_error\u001b[0;34m()\u001b[0m\n",
            "\u001b[0;31mParserError\u001b[0m: Error tokenizing data. C error: Calling read(nbytes) on source failed. Try engine='python'."
          ]
        }
      ]
    },
    {
      "cell_type": "code",
      "source": [
        "import math\n",
        "filename = \"articlesSet.csv\"\n",
        "fields = ['title', 'summary', 'content']  # Correct variable name\n",
        "with open(filename, 'a') as csvfile:\n",
        "    csvwriter = csv.writer(csvfile)\n",
        "    csvwriter.writerow(fields)  # Use the correct variable name here\n",
        "\n",
        "    def callback(row):\n",
        "        summary = generateSummary(row['text'])\n",
        "        if (type(summary) != str):\n",
        "            return\n",
        "        rows = [row['title'], summary, row['text']]\n",
        "        csvwriter.writerow(rows)\n",
        "\n",
        "    df.apply(callback, axis=1)\n"
      ],
      "metadata": {
        "id": "fRhk5E8RF8dW",
        "outputId": "27ac3cd3-7faa-4c2b-e321-9e117bcc4376",
        "colab": {
          "base_uri": "https://localhost:8080/",
          "height": 211
        }
      },
      "execution_count": null,
      "outputs": [
        {
          "output_type": "error",
          "ename": "NameError",
          "evalue": "name 'csv' is not defined",
          "traceback": [
            "\u001b[0;31m---------------------------------------------------------------------------\u001b[0m",
            "\u001b[0;31mNameError\u001b[0m                                 Traceback (most recent call last)",
            "\u001b[0;32m<ipython-input-1-f7376addf936>\u001b[0m in \u001b[0;36m<cell line: 4>\u001b[0;34m()\u001b[0m\n\u001b[1;32m      3\u001b[0m \u001b[0mfields\u001b[0m \u001b[0;34m=\u001b[0m \u001b[0;34m[\u001b[0m\u001b[0;34m'title'\u001b[0m\u001b[0;34m,\u001b[0m \u001b[0;34m'summary'\u001b[0m\u001b[0;34m,\u001b[0m \u001b[0;34m'content'\u001b[0m\u001b[0;34m]\u001b[0m  \u001b[0;31m# Correct variable name\u001b[0m\u001b[0;34m\u001b[0m\u001b[0;34m\u001b[0m\u001b[0m\n\u001b[1;32m      4\u001b[0m \u001b[0;32mwith\u001b[0m \u001b[0mopen\u001b[0m\u001b[0;34m(\u001b[0m\u001b[0mfilename\u001b[0m\u001b[0;34m,\u001b[0m \u001b[0;34m'a'\u001b[0m\u001b[0;34m)\u001b[0m \u001b[0;32mas\u001b[0m \u001b[0mcsvfile\u001b[0m\u001b[0;34m:\u001b[0m\u001b[0;34m\u001b[0m\u001b[0;34m\u001b[0m\u001b[0m\n\u001b[0;32m----> 5\u001b[0;31m     \u001b[0mcsvwriter\u001b[0m \u001b[0;34m=\u001b[0m \u001b[0mcsv\u001b[0m\u001b[0;34m.\u001b[0m\u001b[0mwriter\u001b[0m\u001b[0;34m(\u001b[0m\u001b[0mcsvfile\u001b[0m\u001b[0;34m)\u001b[0m\u001b[0;34m\u001b[0m\u001b[0;34m\u001b[0m\u001b[0m\n\u001b[0m\u001b[1;32m      6\u001b[0m     \u001b[0mcsvwriter\u001b[0m\u001b[0;34m.\u001b[0m\u001b[0mwriterow\u001b[0m\u001b[0;34m(\u001b[0m\u001b[0mfields\u001b[0m\u001b[0;34m)\u001b[0m  \u001b[0;31m# Use the correct variable name here\u001b[0m\u001b[0;34m\u001b[0m\u001b[0;34m\u001b[0m\u001b[0m\n\u001b[1;32m      7\u001b[0m \u001b[0;34m\u001b[0m\u001b[0m\n",
            "\u001b[0;31mNameError\u001b[0m: name 'csv' is not defined"
          ]
        }
      ]
    },
    {
      "source": [
        "import math\n",
        "import csv # import the csv module\n",
        "filename = \"articlesSet.csv\"\n",
        "fields = ['title', 'summary', 'content']  # Correct variable name\n",
        "with open(filename, 'a') as csvfile:\n",
        "    csvwriter = csv.writer(csvfile)\n",
        "    csvwriter.writerow(fields)  # Use the correct variable name here\n",
        "\n",
        "    def callback(row):\n",
        "        summary = generateSummary(row['text'])\n",
        "        if (type(summary) != str):\n",
        "            return\n",
        "        rows = [row['title'], summary, row['text']]\n",
        "        csvwriter.writerow(rows)\n",
        "    df.apply(callback, axis=1)"
      ],
      "cell_type": "code",
      "metadata": {
        "id": "g3qSBiHIGCKj",
        "outputId": "4f244b2c-e56b-4829-b5f2-a81501869d5f",
        "colab": {
          "base_uri": "https://localhost:8080/",
          "height": 176
        }
      },
      "execution_count": null,
      "outputs": [
        {
          "output_type": "error",
          "ename": "NameError",
          "evalue": "name 'df' is not defined",
          "traceback": [
            "\u001b[0;31m---------------------------------------------------------------------------\u001b[0m",
            "\u001b[0;31mNameError\u001b[0m                                 Traceback (most recent call last)",
            "\u001b[0;32m<ipython-input-3-0d4291111e6f>\u001b[0m in \u001b[0;36m<cell line: 5>\u001b[0;34m()\u001b[0m\n\u001b[1;32m     13\u001b[0m         \u001b[0mrows\u001b[0m \u001b[0;34m=\u001b[0m \u001b[0;34m[\u001b[0m\u001b[0mrow\u001b[0m\u001b[0;34m[\u001b[0m\u001b[0;34m'title'\u001b[0m\u001b[0;34m]\u001b[0m\u001b[0;34m,\u001b[0m \u001b[0msummary\u001b[0m\u001b[0;34m,\u001b[0m \u001b[0mrow\u001b[0m\u001b[0;34m[\u001b[0m\u001b[0;34m'text'\u001b[0m\u001b[0;34m]\u001b[0m\u001b[0;34m]\u001b[0m\u001b[0;34m\u001b[0m\u001b[0;34m\u001b[0m\u001b[0m\n\u001b[1;32m     14\u001b[0m         \u001b[0mcsvwriter\u001b[0m\u001b[0;34m.\u001b[0m\u001b[0mwriterow\u001b[0m\u001b[0;34m(\u001b[0m\u001b[0mrows\u001b[0m\u001b[0;34m)\u001b[0m\u001b[0;34m\u001b[0m\u001b[0;34m\u001b[0m\u001b[0m\n\u001b[0;32m---> 15\u001b[0;31m     \u001b[0mdf\u001b[0m\u001b[0;34m.\u001b[0m\u001b[0mapply\u001b[0m\u001b[0;34m(\u001b[0m\u001b[0mcallback\u001b[0m\u001b[0;34m,\u001b[0m \u001b[0maxis\u001b[0m\u001b[0;34m=\u001b[0m\u001b[0;36m1\u001b[0m\u001b[0;34m)\u001b[0m\u001b[0;34m\u001b[0m\u001b[0;34m\u001b[0m\u001b[0m\n\u001b[0m",
            "\u001b[0;31mNameError\u001b[0m: name 'df' is not defined"
          ]
        }
      ]
    },
    {
      "cell_type": "code",
      "source": [
        "import pandas as pd\n",
        "import math\n",
        "\n",
        "filename = \"articlesSet.csv\"\n",
        "fields = ['title', 'summary', 'content']\n",
        "\n",
        "# Load your data into the DataFrame\n",
        "df = pd.read_csv('/kaggle/input/medium-articles/medium_articles.csv')  # Replace with your actual file\n",
        "\n",
        "with open(filename, 'a') as csvfile:\n",
        "    csvwriter = csv.writer(csvfile)\n",
        "    csvwriter.writerow(fields)\n",
        "\n",
        "    def callback(row):\n",
        "        summary = generateSummary(row['text'])\n",
        "        if type(summary) != str:\n",
        "            return\n",
        "        rows = [row['title'], summary, row['text']]\n",
        "        csvwriter.writerow(rows)\n",
        "\n",
        "    df.apply(callback, axis=1)\n"
      ],
      "metadata": {
        "id": "eBzr6jmDEqsh",
        "outputId": "ef1953cd-d50a-4c16-9ba0-6aea22856b1a",
        "colab": {
          "base_uri": "https://localhost:8080/",
          "height": 321
        }
      },
      "execution_count": null,
      "outputs": [
        {
          "output_type": "error",
          "ename": "NameError",
          "evalue": "name 'generateSummary' is not defined",
          "traceback": [
            "\u001b[0;31m---------------------------------------------------------------------------\u001b[0m",
            "\u001b[0;31mNameError\u001b[0m                                 Traceback (most recent call last)",
            "\u001b[0;32m<ipython-input-4-1f99227cc723>\u001b[0m in \u001b[0;36m<cell line: 10>\u001b[0;34m()\u001b[0m\n\u001b[1;32m     19\u001b[0m         \u001b[0mcsvwriter\u001b[0m\u001b[0;34m.\u001b[0m\u001b[0mwriterow\u001b[0m\u001b[0;34m(\u001b[0m\u001b[0mrows\u001b[0m\u001b[0;34m)\u001b[0m\u001b[0;34m\u001b[0m\u001b[0;34m\u001b[0m\u001b[0m\n\u001b[1;32m     20\u001b[0m \u001b[0;34m\u001b[0m\u001b[0m\n\u001b[0;32m---> 21\u001b[0;31m     \u001b[0mdf\u001b[0m\u001b[0;34m.\u001b[0m\u001b[0mapply\u001b[0m\u001b[0;34m(\u001b[0m\u001b[0mcallback\u001b[0m\u001b[0;34m,\u001b[0m \u001b[0maxis\u001b[0m\u001b[0;34m=\u001b[0m\u001b[0;36m1\u001b[0m\u001b[0;34m)\u001b[0m\u001b[0;34m\u001b[0m\u001b[0;34m\u001b[0m\u001b[0m\n\u001b[0m",
            "\u001b[0;32m/usr/local/lib/python3.10/dist-packages/pandas/core/frame.py\u001b[0m in \u001b[0;36mapply\u001b[0;34m(self, func, axis, raw, result_type, args, by_row, **kwargs)\u001b[0m\n\u001b[1;32m  10032\u001b[0m             \u001b[0mkwargs\u001b[0m\u001b[0;34m=\u001b[0m\u001b[0mkwargs\u001b[0m\u001b[0;34m,\u001b[0m\u001b[0;34m\u001b[0m\u001b[0;34m\u001b[0m\u001b[0m\n\u001b[1;32m  10033\u001b[0m         )\n\u001b[0;32m> 10034\u001b[0;31m         \u001b[0;32mreturn\u001b[0m \u001b[0mop\u001b[0m\u001b[0;34m.\u001b[0m\u001b[0mapply\u001b[0m\u001b[0;34m(\u001b[0m\u001b[0;34m)\u001b[0m\u001b[0;34m.\u001b[0m\u001b[0m__finalize__\u001b[0m\u001b[0;34m(\u001b[0m\u001b[0mself\u001b[0m\u001b[0;34m,\u001b[0m \u001b[0mmethod\u001b[0m\u001b[0;34m=\u001b[0m\u001b[0;34m\"apply\"\u001b[0m\u001b[0;34m)\u001b[0m\u001b[0;34m\u001b[0m\u001b[0;34m\u001b[0m\u001b[0m\n\u001b[0m\u001b[1;32m  10035\u001b[0m \u001b[0;34m\u001b[0m\u001b[0m\n\u001b[1;32m  10036\u001b[0m     def map(\n",
            "\u001b[0;32m/usr/local/lib/python3.10/dist-packages/pandas/core/apply.py\u001b[0m in \u001b[0;36mapply\u001b[0;34m(self)\u001b[0m\n\u001b[1;32m    835\u001b[0m             \u001b[0;32mreturn\u001b[0m \u001b[0mself\u001b[0m\u001b[0;34m.\u001b[0m\u001b[0mapply_raw\u001b[0m\u001b[0;34m(\u001b[0m\u001b[0;34m)\u001b[0m\u001b[0;34m\u001b[0m\u001b[0;34m\u001b[0m\u001b[0m\n\u001b[1;32m    836\u001b[0m \u001b[0;34m\u001b[0m\u001b[0m\n\u001b[0;32m--> 837\u001b[0;31m         \u001b[0;32mreturn\u001b[0m \u001b[0mself\u001b[0m\u001b[0;34m.\u001b[0m\u001b[0mapply_standard\u001b[0m\u001b[0;34m(\u001b[0m\u001b[0;34m)\u001b[0m\u001b[0;34m\u001b[0m\u001b[0;34m\u001b[0m\u001b[0m\n\u001b[0m\u001b[1;32m    838\u001b[0m \u001b[0;34m\u001b[0m\u001b[0m\n\u001b[1;32m    839\u001b[0m     \u001b[0;32mdef\u001b[0m \u001b[0magg\u001b[0m\u001b[0;34m(\u001b[0m\u001b[0mself\u001b[0m\u001b[0;34m)\u001b[0m\u001b[0;34m:\u001b[0m\u001b[0;34m\u001b[0m\u001b[0;34m\u001b[0m\u001b[0m\n",
            "\u001b[0;32m/usr/local/lib/python3.10/dist-packages/pandas/core/apply.py\u001b[0m in \u001b[0;36mapply_standard\u001b[0;34m(self)\u001b[0m\n\u001b[1;32m    963\u001b[0m \u001b[0;34m\u001b[0m\u001b[0m\n\u001b[1;32m    964\u001b[0m     \u001b[0;32mdef\u001b[0m \u001b[0mapply_standard\u001b[0m\u001b[0;34m(\u001b[0m\u001b[0mself\u001b[0m\u001b[0;34m)\u001b[0m\u001b[0;34m:\u001b[0m\u001b[0;34m\u001b[0m\u001b[0;34m\u001b[0m\u001b[0m\n\u001b[0;32m--> 965\u001b[0;31m         \u001b[0mresults\u001b[0m\u001b[0;34m,\u001b[0m \u001b[0mres_index\u001b[0m \u001b[0;34m=\u001b[0m \u001b[0mself\u001b[0m\u001b[0;34m.\u001b[0m\u001b[0mapply_series_generator\u001b[0m\u001b[0;34m(\u001b[0m\u001b[0;34m)\u001b[0m\u001b[0;34m\u001b[0m\u001b[0;34m\u001b[0m\u001b[0m\n\u001b[0m\u001b[1;32m    966\u001b[0m \u001b[0;34m\u001b[0m\u001b[0m\n\u001b[1;32m    967\u001b[0m         \u001b[0;31m# wrap results\u001b[0m\u001b[0;34m\u001b[0m\u001b[0;34m\u001b[0m\u001b[0m\n",
            "\u001b[0;32m/usr/local/lib/python3.10/dist-packages/pandas/core/apply.py\u001b[0m in \u001b[0;36mapply_series_generator\u001b[0;34m(self)\u001b[0m\n\u001b[1;32m    979\u001b[0m             \u001b[0;32mfor\u001b[0m \u001b[0mi\u001b[0m\u001b[0;34m,\u001b[0m \u001b[0mv\u001b[0m \u001b[0;32min\u001b[0m \u001b[0menumerate\u001b[0m\u001b[0;34m(\u001b[0m\u001b[0mseries_gen\u001b[0m\u001b[0;34m)\u001b[0m\u001b[0;34m:\u001b[0m\u001b[0;34m\u001b[0m\u001b[0;34m\u001b[0m\u001b[0m\n\u001b[1;32m    980\u001b[0m                 \u001b[0;31m# ignore SettingWithCopy here in case the user mutates\u001b[0m\u001b[0;34m\u001b[0m\u001b[0;34m\u001b[0m\u001b[0m\n\u001b[0;32m--> 981\u001b[0;31m                 \u001b[0mresults\u001b[0m\u001b[0;34m[\u001b[0m\u001b[0mi\u001b[0m\u001b[0;34m]\u001b[0m \u001b[0;34m=\u001b[0m \u001b[0mself\u001b[0m\u001b[0;34m.\u001b[0m\u001b[0mfunc\u001b[0m\u001b[0;34m(\u001b[0m\u001b[0mv\u001b[0m\u001b[0;34m,\u001b[0m \u001b[0;34m*\u001b[0m\u001b[0mself\u001b[0m\u001b[0;34m.\u001b[0m\u001b[0margs\u001b[0m\u001b[0;34m,\u001b[0m \u001b[0;34m**\u001b[0m\u001b[0mself\u001b[0m\u001b[0;34m.\u001b[0m\u001b[0mkwargs\u001b[0m\u001b[0;34m)\u001b[0m\u001b[0;34m\u001b[0m\u001b[0;34m\u001b[0m\u001b[0m\n\u001b[0m\u001b[1;32m    982\u001b[0m                 \u001b[0;32mif\u001b[0m \u001b[0misinstance\u001b[0m\u001b[0;34m(\u001b[0m\u001b[0mresults\u001b[0m\u001b[0;34m[\u001b[0m\u001b[0mi\u001b[0m\u001b[0;34m]\u001b[0m\u001b[0;34m,\u001b[0m \u001b[0mABCSeries\u001b[0m\u001b[0;34m)\u001b[0m\u001b[0;34m:\u001b[0m\u001b[0;34m\u001b[0m\u001b[0;34m\u001b[0m\u001b[0m\n\u001b[1;32m    983\u001b[0m                     \u001b[0;31m# If we have a view on v, we need to make a copy because\u001b[0m\u001b[0;34m\u001b[0m\u001b[0;34m\u001b[0m\u001b[0m\n",
            "\u001b[0;32m<ipython-input-4-1f99227cc723>\u001b[0m in \u001b[0;36mcallback\u001b[0;34m(row)\u001b[0m\n\u001b[1;32m     13\u001b[0m \u001b[0;34m\u001b[0m\u001b[0m\n\u001b[1;32m     14\u001b[0m     \u001b[0;32mdef\u001b[0m \u001b[0mcallback\u001b[0m\u001b[0;34m(\u001b[0m\u001b[0mrow\u001b[0m\u001b[0;34m)\u001b[0m\u001b[0;34m:\u001b[0m\u001b[0;34m\u001b[0m\u001b[0;34m\u001b[0m\u001b[0m\n\u001b[0;32m---> 15\u001b[0;31m         \u001b[0msummary\u001b[0m \u001b[0;34m=\u001b[0m \u001b[0mgenerateSummary\u001b[0m\u001b[0;34m(\u001b[0m\u001b[0mrow\u001b[0m\u001b[0;34m[\u001b[0m\u001b[0;34m'text'\u001b[0m\u001b[0;34m]\u001b[0m\u001b[0;34m)\u001b[0m\u001b[0;34m\u001b[0m\u001b[0;34m\u001b[0m\u001b[0m\n\u001b[0m\u001b[1;32m     16\u001b[0m         \u001b[0;32mif\u001b[0m \u001b[0mtype\u001b[0m\u001b[0;34m(\u001b[0m\u001b[0msummary\u001b[0m\u001b[0;34m)\u001b[0m \u001b[0;34m!=\u001b[0m \u001b[0mstr\u001b[0m\u001b[0;34m:\u001b[0m\u001b[0;34m\u001b[0m\u001b[0;34m\u001b[0m\u001b[0m\n\u001b[1;32m     17\u001b[0m             \u001b[0;32mreturn\u001b[0m\u001b[0;34m\u001b[0m\u001b[0;34m\u001b[0m\u001b[0m\n",
            "\u001b[0;31mNameError\u001b[0m: name 'generateSummary' is not defined"
          ]
        }
      ]
    }
  ]
}