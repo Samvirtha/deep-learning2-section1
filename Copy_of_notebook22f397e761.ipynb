{
  "metadata": {
    "kernelspec": {
      "language": "python",
      "display_name": "Python 3",
      "name": "python3"
    },
    "language_info": {
      "pygments_lexer": "ipython3",
      "nbconvert_exporter": "python",
      "version": "3.6.4",
      "file_extension": ".py",
      "codemirror_mode": {
        "name": "ipython",
        "version": 3
      },
      "name": "python",
      "mimetype": "text/x-python"
    },
    "kaggle": {
      "accelerator": "none",
      "dataSources": [
        {
          "sourceId": 3531703,
          "sourceType": "datasetVersion",
          "datasetId": 2123951
        }
      ],
      "isInternetEnabled": false,
      "language": "python",
      "sourceType": "notebook",
      "isGpuEnabled": false
    },
    "colab": {
      "provenance": [],
      "include_colab_link": true
    }
  },
  "nbformat_minor": 0,
  "nbformat": 4,
  "cells": [
    {
      "cell_type": "markdown",
      "metadata": {
        "id": "view-in-github",
        "colab_type": "text"
      },
      "source": [
        "<a href=\"https://colab.research.google.com/github/Samvirtha/deep-learning2-section1/blob/main/Copy_of_notebook22f397e761.ipynb\" target=\"_parent\"><img src=\"https://colab.research.google.com/assets/colab-badge.svg\" alt=\"Open In Colab\"/></a>"
      ]
    },
    {
      "source": [
        "\n",
        "# IMPORTANT: RUN THIS CELL IN ORDER TO IMPORT YOUR KAGGLE DATA SOURCES\n",
        "# TO THE CORRECT LOCATION (/kaggle/input) IN YOUR NOTEBOOK,\n",
        "# THEN FEEL FREE TO DELETE THIS CELL.\n",
        "# NOTE: THIS NOTEBOOK ENVIRONMENT DIFFERS FROM KAGGLE'S PYTHON\n",
        "# ENVIRONMENT SO THERE MAY BE MISSING LIBRARIES USED BY YOUR\n",
        "# NOTEBOOK.\n",
        "\n",
        "import os\n",
        "import sys\n",
        "from tempfile import NamedTemporaryFile\n",
        "from urllib.request import urlopen\n",
        "from urllib.parse import unquote, urlparse\n",
        "from urllib.error import HTTPError\n",
        "from zipfile import ZipFile\n",
        "import tarfile\n",
        "import shutil\n",
        "\n",
        "CHUNK_SIZE = 40960\n",
        "DATA_SOURCE_MAPPING = 'medium-articles:https%3A%2F%2Fstorage.googleapis.com%2Fkaggle-data-sets%2F2123951%2F3531703%2Fbundle%2Farchive.zip%3FX-Goog-Algorithm%3DGOOG4-RSA-SHA256%26X-Goog-Credential%3Dgcp-kaggle-com%2540kaggle-161607.iam.gserviceaccount.com%252F20240908%252Fauto%252Fstorage%252Fgoog4_request%26X-Goog-Date%3D20240908T094733Z%26X-Goog-Expires%3D259200%26X-Goog-SignedHeaders%3Dhost%26X-Goog-Signature%3D6549a6dea7fc63bd4ec7495076974398880554c5c7235b08ff6ce5dfea80c28f2774fa5b1a75066b4647afa5b6cb34247aa62ea20d0db67a9b3d21318a58734679e15d3a6d4ad596d857c2ed5778dab6abf89d3cae7768496969e8d8ed1eae9e04a1a5d48fcbd36599f1768a5747d34371f401cf041bdd4f4715644ba239ecb8122e72ffd91c818b9ba591d79871ba7a993a3a3f8fcab70df8deebcf6381a4a8a3f4d0d5f14b3bec33b36e616c3199bcf10c1a61939acf75e539dd5aaf808ec78f284b1b57b84c8a7ef0782b77287d2f07d4a1be8739cb3c1bea0928716364b0827adaf9b788f5757b6e3d888787d86c213f01812d180f511763414b307c2b6e'\n",
        "\n",
        "KAGGLE_INPUT_PATH='/kaggle/input'\n",
        "KAGGLE_WORKING_PATH='/kaggle/working'\n",
        "KAGGLE_SYMLINK='kaggle'\n",
        "\n",
        "!umount /kaggle/input/ 2> /dev/null\n",
        "shutil.rmtree('/kaggle/input', ignore_errors=True)\n",
        "os.makedirs(KAGGLE_INPUT_PATH, 0o777, exist_ok=True)\n",
        "os.makedirs(KAGGLE_WORKING_PATH, 0o777, exist_ok=True)\n",
        "\n",
        "try:\n",
        "  os.symlink(KAGGLE_INPUT_PATH, os.path.join(\"..\", 'input'), target_is_directory=True)\n",
        "except FileExistsError:\n",
        "  pass\n",
        "try:\n",
        "  os.symlink(KAGGLE_WORKING_PATH, os.path.join(\"..\", 'working'), target_is_directory=True)\n",
        "except FileExistsError:\n",
        "  pass\n",
        "\n",
        "for data_source_mapping in DATA_SOURCE_MAPPING.split(','):\n",
        "    directory, download_url_encoded = data_source_mapping.split(':')\n",
        "    download_url = unquote(download_url_encoded)\n",
        "    filename = urlparse(download_url).path\n",
        "    destination_path = os.path.join(KAGGLE_INPUT_PATH, directory)\n",
        "    try:\n",
        "        with urlopen(download_url) as fileres, NamedTemporaryFile() as tfile:\n",
        "            total_length = fileres.headers['content-length']\n",
        "            print(f'Downloading {directory}, {total_length} bytes compressed')\n",
        "            dl = 0\n",
        "            data = fileres.read(CHUNK_SIZE)\n",
        "            while len(data) > 0:\n",
        "                dl += len(data)\n",
        "                tfile.write(data)\n",
        "                done = int(50 * dl / int(total_length))\n",
        "                sys.stdout.write(f\"\\r[{'=' * done}{' ' * (50-done)}] {dl} bytes downloaded\")\n",
        "                sys.stdout.flush()\n",
        "                data = fileres.read(CHUNK_SIZE)\n",
        "            if filename.endswith('.zip'):\n",
        "              with ZipFile(tfile) as zfile:\n",
        "                zfile.extractall(destination_path)\n",
        "            else:\n",
        "              with tarfile.open(tfile.name) as tarfile:\n",
        "                tarfile.extractall(destination_path)\n",
        "            print(f'\\nDownloaded and uncompressed: {directory}')\n",
        "    except HTTPError as e:\n",
        "        print(f'Failed to load (likely expired) {download_url} to path {destination_path}')\n",
        "        continue\n",
        "    except OSError as e:\n",
        "        print(f'Failed to load {download_url} to path {destination_path}')\n",
        "        continue\n",
        "\n",
        "print('Data source import complete.')\n"
      ],
      "metadata": {
        "id": "N55VjMPTCESr",
        "outputId": "a5b0e5f7-3a9a-4dec-cba1-2636930c3603",
        "colab": {
          "base_uri": "https://localhost:8080/"
        }
      },
      "cell_type": "code",
      "outputs": [
        {
          "output_type": "stream",
          "name": "stdout",
          "text": [
            "Downloading medium-articles, 386824829 bytes compressed\n",
            "[==================================================] 386824829 bytes downloaded\n",
            "Downloaded and uncompressed: medium-articles\n",
            "Data source import complete.\n"
          ]
        }
      ],
      "execution_count": 7
    },
    {
      "cell_type": "code",
      "source": [
        "# This Python 3 environment comes with many helpful analytics libraries installed\n",
        "# It is defined by the kaggle/python Docker image: https://github.com/kaggle/docker-python\n",
        "# For example, here's several helpful packages to load\n",
        "\n",
        "import numpy as np # linear algebra\n",
        "import pandas as pd # data processing, CSV file I/O (e.g. pd.read_csv)\n",
        "\n",
        "# Input data files are available in the read-only \"../input/\" directory\n",
        "# For example, running this (by clicking run or pressing Shift+Enter) will list all files under the input directory\n",
        "\n",
        "import os\n",
        "for dirname, _, filenames in os.walk('/kaggle/input'):\n",
        "    for filename in filenames:\n",
        "        print(os.path.join(dirname, filename))\n",
        "\n",
        "# You can write up to 20GB to the current directory (/kaggle/working/) that gets preserved as output when you create a version using \"Save & Run All\"\n",
        "# You can also write temporary files to /kaggle/temp/, but they won't be saved outside of the current session"
      ],
      "metadata": {
        "_uuid": "8f2839f25d086af736a60e9eeb907d3b93b6e0e5",
        "_cell_guid": "b1076dfc-b9ad-4769-8c92-a6c4dae69d19",
        "trusted": true,
        "id": "cv6BXO4fCESx",
        "outputId": "aaac673d-45a8-4dea-bef3-a111efdd68a7",
        "colab": {
          "base_uri": "https://localhost:8080/"
        }
      },
      "execution_count": 8,
      "outputs": [
        {
          "output_type": "stream",
          "name": "stdout",
          "text": [
            "/kaggle/input/medium-articles/medium_articles.csv\n"
          ]
        }
      ]
    },
    {
      "cell_type": "code",
      "source": [
        "import numpy as np\n",
        "\n",
        "import pandas as pd\n",
        "\n",
        "import nltk\n",
        "\n",
        "import re\n",
        "\n",
        "from nltk.tokenize import sent_tokenize\n",
        "\n",
        "from nltk.corpus import stopwords\n",
        "\n",
        "from gensim.models import Word2Vec\n",
        "\n",
        "from scipy import spatial\n",
        "\n",
        "import networkx as nx\n",
        "\n",
        "import csv"
      ],
      "metadata": {
        "id": "eb9-4Y95CIy8"
      },
      "execution_count": 9,
      "outputs": []
    },
    {
      "cell_type": "code",
      "source": [
        "df=pd.read_csv('/kaggle/input/medium-articles/medium_articles.csv')\n",
        "\n",
        "df.head()\n"
      ],
      "metadata": {
        "id": "drfp_iwkCQxs",
        "outputId": "426a3e6b-4610-46ae-fec8-679d3caabe22",
        "colab": {
          "base_uri": "https://localhost:8080/",
          "height": 293
        }
      },
      "execution_count": 10,
      "outputs": [
        {
          "output_type": "execute_result",
          "data": {
            "text/plain": [
              "                              title  \\\n",
              "0               Mental Note Vol. 24   \n",
              "1         Your Brain On Coronavirus   \n",
              "2                    Mind Your Nose   \n",
              "3          The 4 Purposes of Dreams   \n",
              "4  Surviving a Rod Through the Head   \n",
              "\n",
              "                                                text  \\\n",
              "0  Photo by Josh Riemer on Unsplash\\n\\nMerry Chri...   \n",
              "1  Your Brain On Coronavirus\\n\\nA guide to the cu...   \n",
              "2  Mind Your Nose\\n\\nHow smell training can chang...   \n",
              "3  Passionate about the synergy between science a...   \n",
              "4  You’ve heard of him, haven’t you? Phineas Gage...   \n",
              "\n",
              "                                                 url                 authors  \\\n",
              "0  https://medium.com/invisible-illness/mental-no...            ['Ryan Fan']   \n",
              "1  https://medium.com/age-of-awareness/how-the-pa...       ['Simon Spichak']   \n",
              "2  https://medium.com/neodotlife/mind-your-nose-f...                      []   \n",
              "3  https://medium.com/science-for-real/the-4-purp...  ['Eshan Samaranayake']   \n",
              "4  https://medium.com/live-your-life-on-purpose/s...        ['Rishav Sinha']   \n",
              "\n",
              "                          timestamp  \\\n",
              "0  2020-12-26 03:38:10.479000+00:00   \n",
              "1  2020-09-23 22:10:17.126000+00:00   \n",
              "2  2020-10-10 20:17:37.132000+00:00   \n",
              "3  2020-12-21 16:05:19.524000+00:00   \n",
              "4  2020-02-26 00:01:01.576000+00:00   \n",
              "\n",
              "                                                tags  \n",
              "0  ['Mental Health', 'Health', 'Psychology', 'Sci...  \n",
              "1  ['Mental Health', 'Coronavirus', 'Science', 'P...  \n",
              "2  ['Biotechnology', 'Neuroscience', 'Brain', 'We...  \n",
              "3  ['Health', 'Neuroscience', 'Mental Health', 'P...  \n",
              "4  ['Brain', 'Health', 'Development', 'Psychology...  "
            ],
            "text/html": [
              "\n",
              "  <div id=\"df-538cd806-d602-47c7-8730-c01a9ee4dcf4\" class=\"colab-df-container\">\n",
              "    <div>\n",
              "<style scoped>\n",
              "    .dataframe tbody tr th:only-of-type {\n",
              "        vertical-align: middle;\n",
              "    }\n",
              "\n",
              "    .dataframe tbody tr th {\n",
              "        vertical-align: top;\n",
              "    }\n",
              "\n",
              "    .dataframe thead th {\n",
              "        text-align: right;\n",
              "    }\n",
              "</style>\n",
              "<table border=\"1\" class=\"dataframe\">\n",
              "  <thead>\n",
              "    <tr style=\"text-align: right;\">\n",
              "      <th></th>\n",
              "      <th>title</th>\n",
              "      <th>text</th>\n",
              "      <th>url</th>\n",
              "      <th>authors</th>\n",
              "      <th>timestamp</th>\n",
              "      <th>tags</th>\n",
              "    </tr>\n",
              "  </thead>\n",
              "  <tbody>\n",
              "    <tr>\n",
              "      <th>0</th>\n",
              "      <td>Mental Note Vol. 24</td>\n",
              "      <td>Photo by Josh Riemer on Unsplash\\n\\nMerry Chri...</td>\n",
              "      <td>https://medium.com/invisible-illness/mental-no...</td>\n",
              "      <td>['Ryan Fan']</td>\n",
              "      <td>2020-12-26 03:38:10.479000+00:00</td>\n",
              "      <td>['Mental Health', 'Health', 'Psychology', 'Sci...</td>\n",
              "    </tr>\n",
              "    <tr>\n",
              "      <th>1</th>\n",
              "      <td>Your Brain On Coronavirus</td>\n",
              "      <td>Your Brain On Coronavirus\\n\\nA guide to the cu...</td>\n",
              "      <td>https://medium.com/age-of-awareness/how-the-pa...</td>\n",
              "      <td>['Simon Spichak']</td>\n",
              "      <td>2020-09-23 22:10:17.126000+00:00</td>\n",
              "      <td>['Mental Health', 'Coronavirus', 'Science', 'P...</td>\n",
              "    </tr>\n",
              "    <tr>\n",
              "      <th>2</th>\n",
              "      <td>Mind Your Nose</td>\n",
              "      <td>Mind Your Nose\\n\\nHow smell training can chang...</td>\n",
              "      <td>https://medium.com/neodotlife/mind-your-nose-f...</td>\n",
              "      <td>[]</td>\n",
              "      <td>2020-10-10 20:17:37.132000+00:00</td>\n",
              "      <td>['Biotechnology', 'Neuroscience', 'Brain', 'We...</td>\n",
              "    </tr>\n",
              "    <tr>\n",
              "      <th>3</th>\n",
              "      <td>The 4 Purposes of Dreams</td>\n",
              "      <td>Passionate about the synergy between science a...</td>\n",
              "      <td>https://medium.com/science-for-real/the-4-purp...</td>\n",
              "      <td>['Eshan Samaranayake']</td>\n",
              "      <td>2020-12-21 16:05:19.524000+00:00</td>\n",
              "      <td>['Health', 'Neuroscience', 'Mental Health', 'P...</td>\n",
              "    </tr>\n",
              "    <tr>\n",
              "      <th>4</th>\n",
              "      <td>Surviving a Rod Through the Head</td>\n",
              "      <td>You’ve heard of him, haven’t you? Phineas Gage...</td>\n",
              "      <td>https://medium.com/live-your-life-on-purpose/s...</td>\n",
              "      <td>['Rishav Sinha']</td>\n",
              "      <td>2020-02-26 00:01:01.576000+00:00</td>\n",
              "      <td>['Brain', 'Health', 'Development', 'Psychology...</td>\n",
              "    </tr>\n",
              "  </tbody>\n",
              "</table>\n",
              "</div>\n",
              "    <div class=\"colab-df-buttons\">\n",
              "\n",
              "  <div class=\"colab-df-container\">\n",
              "    <button class=\"colab-df-convert\" onclick=\"convertToInteractive('df-538cd806-d602-47c7-8730-c01a9ee4dcf4')\"\n",
              "            title=\"Convert this dataframe to an interactive table.\"\n",
              "            style=\"display:none;\">\n",
              "\n",
              "  <svg xmlns=\"http://www.w3.org/2000/svg\" height=\"24px\" viewBox=\"0 -960 960 960\">\n",
              "    <path d=\"M120-120v-720h720v720H120Zm60-500h600v-160H180v160Zm220 220h160v-160H400v160Zm0 220h160v-160H400v160ZM180-400h160v-160H180v160Zm440 0h160v-160H620v160ZM180-180h160v-160H180v160Zm440 0h160v-160H620v160Z\"/>\n",
              "  </svg>\n",
              "    </button>\n",
              "\n",
              "  <style>\n",
              "    .colab-df-container {\n",
              "      display:flex;\n",
              "      gap: 12px;\n",
              "    }\n",
              "\n",
              "    .colab-df-convert {\n",
              "      background-color: #E8F0FE;\n",
              "      border: none;\n",
              "      border-radius: 50%;\n",
              "      cursor: pointer;\n",
              "      display: none;\n",
              "      fill: #1967D2;\n",
              "      height: 32px;\n",
              "      padding: 0 0 0 0;\n",
              "      width: 32px;\n",
              "    }\n",
              "\n",
              "    .colab-df-convert:hover {\n",
              "      background-color: #E2EBFA;\n",
              "      box-shadow: 0px 1px 2px rgba(60, 64, 67, 0.3), 0px 1px 3px 1px rgba(60, 64, 67, 0.15);\n",
              "      fill: #174EA6;\n",
              "    }\n",
              "\n",
              "    .colab-df-buttons div {\n",
              "      margin-bottom: 4px;\n",
              "    }\n",
              "\n",
              "    [theme=dark] .colab-df-convert {\n",
              "      background-color: #3B4455;\n",
              "      fill: #D2E3FC;\n",
              "    }\n",
              "\n",
              "    [theme=dark] .colab-df-convert:hover {\n",
              "      background-color: #434B5C;\n",
              "      box-shadow: 0px 1px 3px 1px rgba(0, 0, 0, 0.15);\n",
              "      filter: drop-shadow(0px 1px 2px rgba(0, 0, 0, 0.3));\n",
              "      fill: #FFFFFF;\n",
              "    }\n",
              "  </style>\n",
              "\n",
              "    <script>\n",
              "      const buttonEl =\n",
              "        document.querySelector('#df-538cd806-d602-47c7-8730-c01a9ee4dcf4 button.colab-df-convert');\n",
              "      buttonEl.style.display =\n",
              "        google.colab.kernel.accessAllowed ? 'block' : 'none';\n",
              "\n",
              "      async function convertToInteractive(key) {\n",
              "        const element = document.querySelector('#df-538cd806-d602-47c7-8730-c01a9ee4dcf4');\n",
              "        const dataTable =\n",
              "          await google.colab.kernel.invokeFunction('convertToInteractive',\n",
              "                                                    [key], {});\n",
              "        if (!dataTable) return;\n",
              "\n",
              "        const docLinkHtml = 'Like what you see? Visit the ' +\n",
              "          '<a target=\"_blank\" href=https://colab.research.google.com/notebooks/data_table.ipynb>data table notebook</a>'\n",
              "          + ' to learn more about interactive tables.';\n",
              "        element.innerHTML = '';\n",
              "        dataTable['output_type'] = 'display_data';\n",
              "        await google.colab.output.renderOutput(dataTable, element);\n",
              "        const docLink = document.createElement('div');\n",
              "        docLink.innerHTML = docLinkHtml;\n",
              "        element.appendChild(docLink);\n",
              "      }\n",
              "    </script>\n",
              "  </div>\n",
              "\n",
              "\n",
              "<div id=\"df-8bb91fd6-99e0-4f1f-8f1b-b67dadaa584c\">\n",
              "  <button class=\"colab-df-quickchart\" onclick=\"quickchart('df-8bb91fd6-99e0-4f1f-8f1b-b67dadaa584c')\"\n",
              "            title=\"Suggest charts\"\n",
              "            style=\"display:none;\">\n",
              "\n",
              "<svg xmlns=\"http://www.w3.org/2000/svg\" height=\"24px\"viewBox=\"0 0 24 24\"\n",
              "     width=\"24px\">\n",
              "    <g>\n",
              "        <path d=\"M19 3H5c-1.1 0-2 .9-2 2v14c0 1.1.9 2 2 2h14c1.1 0 2-.9 2-2V5c0-1.1-.9-2-2-2zM9 17H7v-7h2v7zm4 0h-2V7h2v10zm4 0h-2v-4h2v4z\"/>\n",
              "    </g>\n",
              "</svg>\n",
              "  </button>\n",
              "\n",
              "<style>\n",
              "  .colab-df-quickchart {\n",
              "      --bg-color: #E8F0FE;\n",
              "      --fill-color: #1967D2;\n",
              "      --hover-bg-color: #E2EBFA;\n",
              "      --hover-fill-color: #174EA6;\n",
              "      --disabled-fill-color: #AAA;\n",
              "      --disabled-bg-color: #DDD;\n",
              "  }\n",
              "\n",
              "  [theme=dark] .colab-df-quickchart {\n",
              "      --bg-color: #3B4455;\n",
              "      --fill-color: #D2E3FC;\n",
              "      --hover-bg-color: #434B5C;\n",
              "      --hover-fill-color: #FFFFFF;\n",
              "      --disabled-bg-color: #3B4455;\n",
              "      --disabled-fill-color: #666;\n",
              "  }\n",
              "\n",
              "  .colab-df-quickchart {\n",
              "    background-color: var(--bg-color);\n",
              "    border: none;\n",
              "    border-radius: 50%;\n",
              "    cursor: pointer;\n",
              "    display: none;\n",
              "    fill: var(--fill-color);\n",
              "    height: 32px;\n",
              "    padding: 0;\n",
              "    width: 32px;\n",
              "  }\n",
              "\n",
              "  .colab-df-quickchart:hover {\n",
              "    background-color: var(--hover-bg-color);\n",
              "    box-shadow: 0 1px 2px rgba(60, 64, 67, 0.3), 0 1px 3px 1px rgba(60, 64, 67, 0.15);\n",
              "    fill: var(--button-hover-fill-color);\n",
              "  }\n",
              "\n",
              "  .colab-df-quickchart-complete:disabled,\n",
              "  .colab-df-quickchart-complete:disabled:hover {\n",
              "    background-color: var(--disabled-bg-color);\n",
              "    fill: var(--disabled-fill-color);\n",
              "    box-shadow: none;\n",
              "  }\n",
              "\n",
              "  .colab-df-spinner {\n",
              "    border: 2px solid var(--fill-color);\n",
              "    border-color: transparent;\n",
              "    border-bottom-color: var(--fill-color);\n",
              "    animation:\n",
              "      spin 1s steps(1) infinite;\n",
              "  }\n",
              "\n",
              "  @keyframes spin {\n",
              "    0% {\n",
              "      border-color: transparent;\n",
              "      border-bottom-color: var(--fill-color);\n",
              "      border-left-color: var(--fill-color);\n",
              "    }\n",
              "    20% {\n",
              "      border-color: transparent;\n",
              "      border-left-color: var(--fill-color);\n",
              "      border-top-color: var(--fill-color);\n",
              "    }\n",
              "    30% {\n",
              "      border-color: transparent;\n",
              "      border-left-color: var(--fill-color);\n",
              "      border-top-color: var(--fill-color);\n",
              "      border-right-color: var(--fill-color);\n",
              "    }\n",
              "    40% {\n",
              "      border-color: transparent;\n",
              "      border-right-color: var(--fill-color);\n",
              "      border-top-color: var(--fill-color);\n",
              "    }\n",
              "    60% {\n",
              "      border-color: transparent;\n",
              "      border-right-color: var(--fill-color);\n",
              "    }\n",
              "    80% {\n",
              "      border-color: transparent;\n",
              "      border-right-color: var(--fill-color);\n",
              "      border-bottom-color: var(--fill-color);\n",
              "    }\n",
              "    90% {\n",
              "      border-color: transparent;\n",
              "      border-bottom-color: var(--fill-color);\n",
              "    }\n",
              "  }\n",
              "</style>\n",
              "\n",
              "  <script>\n",
              "    async function quickchart(key) {\n",
              "      const quickchartButtonEl =\n",
              "        document.querySelector('#' + key + ' button');\n",
              "      quickchartButtonEl.disabled = true;  // To prevent multiple clicks.\n",
              "      quickchartButtonEl.classList.add('colab-df-spinner');\n",
              "      try {\n",
              "        const charts = await google.colab.kernel.invokeFunction(\n",
              "            'suggestCharts', [key], {});\n",
              "      } catch (error) {\n",
              "        console.error('Error during call to suggestCharts:', error);\n",
              "      }\n",
              "      quickchartButtonEl.classList.remove('colab-df-spinner');\n",
              "      quickchartButtonEl.classList.add('colab-df-quickchart-complete');\n",
              "    }\n",
              "    (() => {\n",
              "      let quickchartButtonEl =\n",
              "        document.querySelector('#df-8bb91fd6-99e0-4f1f-8f1b-b67dadaa584c button');\n",
              "      quickchartButtonEl.style.display =\n",
              "        google.colab.kernel.accessAllowed ? 'block' : 'none';\n",
              "    })();\n",
              "  </script>\n",
              "</div>\n",
              "\n",
              "    </div>\n",
              "  </div>\n"
            ],
            "application/vnd.google.colaboratory.intrinsic+json": {
              "type": "dataframe",
              "variable_name": "df"
            }
          },
          "metadata": {},
          "execution_count": 10
        }
      ]
    },
    {
      "cell_type": "code",
      "source": [
        "df=df[['title','text']]\n",
        "df.shape"
      ],
      "metadata": {
        "id": "UN7YaNagDAwj",
        "outputId": "01619276-c212-41cc-ba3a-7c99ee981908",
        "colab": {
          "base_uri": "https://localhost:8080/"
        }
      },
      "execution_count": 11,
      "outputs": [
        {
          "output_type": "execute_result",
          "data": {
            "text/plain": [
              "(192368, 2)"
            ]
          },
          "metadata": {},
          "execution_count": 11
        }
      ]
    },
    {
      "cell_type": "code",
      "source": [
        "df=df[['title','text']]\n",
        "df.shape"
      ],
      "metadata": {
        "id": "iy0Ve9YNDHeI",
        "outputId": "65f1cebe-23ea-4dd3-db8e-a94a91c209f6",
        "colab": {
          "base_uri": "https://localhost:8080/"
        }
      },
      "execution_count": 12,
      "outputs": [
        {
          "output_type": "execute_result",
          "data": {
            "text/plain": [
              "(192368, 2)"
            ]
          },
          "metadata": {},
          "execution_count": 12
        }
      ]
    },
    {
      "cell_type": "code",
      "source": [
        "df['text']=df['text'].str.replace('\\n','<|n|>')\n"
      ],
      "metadata": {
        "id": "qeS8kJZVDLMI"
      },
      "execution_count": 13,
      "outputs": []
    },
    {
      "cell_type": "code",
      "source": [
        "sample_blog=df['text'][10]\n",
        "print(sample_blog)"
      ],
      "metadata": {
        "id": "FONUDHCMDOhQ",
        "outputId": "d60bf847-da91-46c2-e6d7-7699aeb4970d",
        "colab": {
          "base_uri": "https://localhost:8080/"
        }
      },
      "execution_count": 14,
      "outputs": [
        {
          "output_type": "stream",
          "name": "stdout",
          "text": [
            "Photo credit: Leo Leung<|n|><|n|>People want to know why you do what you do.<|n|><|n|>If you’re an entrepreneur, your investors, customers, and employees want to know why you founded your company. Apply for a job, and recruiters ask about your career path. If you’re a freelancer, everyone is curious about how you got started.<|n|><|n|>Why do we crave origin stories? Because they reveal character. Superman is a good guy because his planet exploded, his parents sent him to Earth, and the Kents raised him to fight evil. Steve Jobs became a trusted CEO, in part, by bouncing back from failure. My dad thrived as a home builder, but only after terminating a partnership with a prominent colleague whose practices he found unethical.<|n|><|n|>In other words:<|n|><|n|>Your origin story helps people decide whether or not to trust you.<|n|><|n|>How to Craft a Powerful Origin Story: The 5 Essential Elements<|n|><|n|>In strategic messaging and positioning engagements with CEOs, as well as business storytelling workshops for teams, I’ve helped hundreds of people construct origin stories. The best instantly convey not only trustworthiness, but also traits like commitment, persistence, and curiosity.<|n|><|n|>So what makes a great origin story work?<|n|><|n|>At the heart of every great origin story is a single event that forever changes the course of the teller’s life. Typically it arises out of failure or disappointment; sometimes it’s an unexpected discovery. Very frequently, another person illuminates a new way forward.<|n|><|n|>Can you pinpoint the event that set you on your current path? (Yes, we all have one.) The event doesn’t have to be life-changing in the “I won the lottery” sense (though congrats if that happened). It just has to reorient you towards what you’re doing now.<|n|><|n|>Once you’ve identified your event, construct your origin story around it using the following five components, and tell it in this order:<|n|><|n|>1. Once upon a time…<|n|><|n|>How was your life before the life-changing event? Most importantly, what did you want back then? Share relevant details: How old were you? Where did you live? When did this happen? (No, you don’t literally have to start with “Once upon a time…”)<|n|><|n|>For example, here’s the “Once upon a time…” for my origin story:<|n|><|n|>Back in the dot-com years, I was living in Manhattan, struggling to fund my startup. It was not going well. One VC attached a hand-written note to his standard rejection letter: “Andy, I rate every business plan I receive on a scale of one to 10. Yours is a one.” At the bottom, he wrote, “P.S. Not a compelling story.”<|n|><|n|>2. “Then one day…”<|n|><|n|>Next, describe your life-changing event. If possible, tell this section as a scene with details that the listener can sense (visualize, hear, smell, etc.). Again, here’s mine:<|n|><|n|>One day, I’m walking up Broadway, when I notice a huge sign in the window of a Barnes and Noble. The sign says, “For anyone who wants to tell a compelling story,” and it’s pointing to a book about screenwriting. I buy the book.<|n|><|n|>3. “Because of that…”<|n|><|n|>What relevant events were then set in motion? What obstacles did you have to overcome? Basically, describe what happened next:<|n|><|n|>That night, I read the book from cover to cover. It’s written in the language of feature films (three act structure, etc.), but much of it seems to apply to telling the story of a startup. I rewrite my pitch and send it to a new batch of investors.<|n|><|n|>4. “Until finally…”<|n|><|n|>What was the turning point — the moment when you really committed to the new path? It’s especially effective to reflect here on how you changed and what you learned:<|n|><|n|>After receiving the revised pitch, several investor groups invite my team to their offices, and four months later we have a term sheet from a prominent Silicon Valley venture firm. The numbers, the team — all remained same. The only thing that changed was how we told our story.<|n|><|n|>5. “So now…”<|n|><|n|>Last but not least, describe what you do now, and connect it to the story.<|n|><|n|>So now I help leadership teams craft strategic messaging and positioning, which is really just their story — the story they use to power fundraising, sales, marketing, recruiting, and product. I also teach storytelling workshops for teams. And I can trace it all back to my failed pitch.<|n|><|n|>Swap Origin Stories with Others to Quickly Build Stronger Relationships<|n|><|n|>Once you’ve drafted your own origin story, tell it a few times to see what works. That’s not to say you should introduce yourself to strangers with “Once upon a time...” But if you’re embarking on a relationship with someone new — a customer, a prospect, an investor— and they ask, try it out. Pay particular attention to where they lean in.<|n|><|n|>Also, ask others to tell you their origin stories. Listen closely, and you’ll quickly learn about their character, values and desires, which can be helpful in all sorts of relationships.<|n|><|n|>As one woman in my recent General Assembly workshop said after swapping origin stories with a classmate: “There’s something about sharing these stories that makes me feel instantly connected.”\n"
          ]
        }
      ]
    },
    {
      "cell_type": "code",
      "source": [],
      "metadata": {
        "id": "jsJqf6qnMDqh"
      },
      "execution_count": null,
      "outputs": []
    },
    {
      "cell_type": "code",
      "source": [
        "!pip install nltk\n"
      ],
      "metadata": {
        "id": "-5-9nqKmDS70",
        "outputId": "3eab6aa7-6dea-4d2a-e54a-7e905b39eeff",
        "colab": {
          "base_uri": "https://localhost:8080/"
        }
      },
      "execution_count": 15,
      "outputs": [
        {
          "output_type": "stream",
          "name": "stdout",
          "text": [
            "Requirement already satisfied: nltk in /usr/local/lib/python3.10/dist-packages (3.8.1)\n",
            "Requirement already satisfied: click in /usr/local/lib/python3.10/dist-packages (from nltk) (8.1.7)\n",
            "Requirement already satisfied: joblib in /usr/local/lib/python3.10/dist-packages (from nltk) (1.4.2)\n",
            "Requirement already satisfied: regex>=2021.8.3 in /usr/local/lib/python3.10/dist-packages (from nltk) (2024.5.15)\n",
            "Requirement already satisfied: tqdm in /usr/local/lib/python3.10/dist-packages (from nltk) (4.66.5)\n"
          ]
        }
      ]
    },
    {
      "source": [
        "import nltk # imports the nltk library\n",
        "import re\n",
        "from nltk.tokenize import sent_tokenize\n",
        "from nltk.corpus import stopwords\n",
        "from gensim.models import Word2Vec\n",
        "import numpy as np\n",
        "\n",
        "nltk.download('punkt') # downloads the punkt sentence tokenizer models\n",
        "nltk.download('stopwords') # downloads the stopwords corpus\n",
        "\n",
        "sentences=sent_tokenize(sample_blog)\n",
        "sentences_clean=[re.sub(r'[^\\w\\s]','',sentence.lower()) for sentence in sentences]\n",
        "stop_words = stopwords.words('english')\n",
        "sentence_tokens=[[words for words in sentence.split(' ') if words not in stop_words]\n",
        "for sentence in sentences_clean]\n",
        "w2v=Word2Vec(sentence_tokens,vector_size=1,min_count=1,epochs=1000)\n",
        "sentence_embeddings=[[w2v.wv.get_vector(word)[0] for word in words] for words in sentence_tokens]\n",
        "max_len=max([len(tokens) for tokens in sentence_tokens])\n",
        "sentence_embeddings=[np.pad(embedding,(0,max_len-len(embedding)),'constant') for embedding in sentence_embeddings]"
      ],
      "cell_type": "code",
      "metadata": {
        "id": "vkC21SdUDylb",
        "outputId": "369a1ad3-6372-41e3-b8ab-aa231c59fc41",
        "colab": {
          "base_uri": "https://localhost:8080/"
        }
      },
      "execution_count": 16,
      "outputs": [
        {
          "output_type": "stream",
          "name": "stderr",
          "text": [
            "[nltk_data] Downloading package punkt to /root/nltk_data...\n",
            "[nltk_data]   Unzipping tokenizers/punkt.zip.\n",
            "[nltk_data] Downloading package stopwords to /root/nltk_data...\n",
            "[nltk_data]   Unzipping corpora/stopwords.zip.\n"
          ]
        }
      ]
    },
    {
      "cell_type": "code",
      "source": [
        "simiarity_matrix = np.zeros([len(sentence_tokens), len(sentence_tokens)]) # misspelled variable name\n",
        "for i,row_embedding in enumerate(sentence_embeddings):\n",
        "    for j,column_embedding in enumerate(sentence_embeddings):\n",
        "        simiarity_matrix[i][j]=1-spatial.distance.cosine(row_embedding,column_embedding)\n",
        "nx_graph = nx.from_numpy_array(simiarity_matrix) # use the correctly spelled variable name\n",
        "scores=nx.pagerank(nx_graph,max_iter=600)\n",
        "top_sentence={sentence:scores[index] for index,sentence in enumerate(sentences)}\n",
        "sentNeeded= round(0.25*len(sentences))-1\n",
        "top=dict(sorted(top_sentence.items(), key=lambda x: x[1], reverse=True)[:sentNeeded])\n",
        "summary=\"\"\n",
        "for sent in sentences:\n",
        "  if sent in top.keys():\n",
        "    summary+= sent\n",
        "print(summary)"
      ],
      "metadata": {
        "id": "jZzZNTQPD1yH",
        "outputId": "2312cbd6-3e89-405c-c904-3d015315c5db",
        "colab": {
          "base_uri": "https://localhost:8080/"
        }
      },
      "execution_count": 17,
      "outputs": [
        {
          "output_type": "stream",
          "name": "stdout",
          "text": [
            "Apply for a job, and recruiters ask about your career path.If you’re a freelancer, everyone is curious about how you got started.<|n|><|n|>Why do we crave origin stories?Steve Jobs became a trusted CEO, in part, by bouncing back from failure.Very frequently, another person illuminates a new way forward.<|n|><|n|>Can you pinpoint the event that set you on your current path?The sign says, “For anyone who wants to tell a compelling story,” and it’s pointing to a book about screenwriting.Basically, describe what happened next:<|n|><|n|>That night, I read the book from cover to cover.It’s written in the language of feature films (three act structure, etc.I rewrite my pitch and send it to a new batch of investors.<|n|><|n|>4.“Until finally…”<|n|><|n|>What was the turning point — the moment when you really committed to the new path?Pay particular attention to where they lean in.<|n|><|n|>Also, ask others to tell you their origin stories.\n"
          ]
        }
      ]
    },
    {
      "source": [
        "simiarity_matrix = np.zeros([len(sentence_tokens), len(sentence_tokens)]) # misspelled variable name\n",
        "for i,row_embedding in enumerate(sentence_embeddings):\n",
        "    for j,column_embedding in enumerate(sentence_embeddings):\n",
        "        # Calculate the mean of the word embeddings for each sentence\n",
        "        row_mean = np.mean(row_embedding, axis=0)\n",
        "        column_mean = np.mean(column_embedding, axis=0)\n",
        "        # Check if row_mean and column_mean are scalars\n",
        "        if row_mean.ndim == 0:\n",
        "            row_mean = np.expand_dims(row_mean, axis=0)\n",
        "        if column_mean.ndim == 0:\n",
        "            column_mean = np.expand_dims(column_mean, axis=0)\n",
        "        simiarity_matrix[i][j]=1-spatial.distance.cosine(row_mean,column_mean)\n",
        "\n",
        "# Print the similarity matrix\n",
        "print(\"Similarity Matrix:\")\n",
        "print(simiarity_matrix)\n",
        "\n",
        "nx_graph = nx.from_numpy_array(simiarity_matrix) # use the correctly spelled variable name\n",
        "scores=nx.pagerank(nx_graph,max_iter=600)\n",
        "\n",
        "# Print the PageRank scores\n",
        "print(\"\\nPageRank Scores:\")\n",
        "for index, sentence in enumerate(sentences):\n",
        "    print(f\"{sentence}: {scores[index]}\")\n",
        "\n",
        "top_sentence={sentence:scores[index] for index,sentence in enumerate(sentences)}\n",
        "sentNeeded= round(0.25*len(sentences))-1\n",
        "top=dict(sorted(top_sentence.items(), key=lambda x: x[1], reverse=True)[:sentNeeded])\n",
        "summary=\"\"\n",
        "for sent in sentences:\n",
        "  if sent in top.keys():\n",
        "    summary+= sent\n",
        "\n",
        "# Print the summary\n",
        "print(\"\\nSummary:\")\n",
        "print(summary)"
      ],
      "cell_type": "code",
      "metadata": {
        "id": "JxrcH27GEGRg",
        "outputId": "54bc797e-fdce-4b2e-a65a-47eb671d3acb",
        "colab": {
          "base_uri": "https://localhost:8080/"
        }
      },
      "execution_count": 18,
      "outputs": [
        {
          "output_type": "stream",
          "name": "stdout",
          "text": [
            "Similarity Matrix:\n",
            "[[1.         0.99999999 1.         ... 1.         0.99999999 1.        ]\n",
            " [0.99999999 1.         1.         ... 0.99999998 0.9999999  0.99999994]\n",
            " [1.         1.         1.         ... 1.         1.         0.99999998]\n",
            " ...\n",
            " [1.         0.99999998 1.         ... 1.         0.99999996 1.        ]\n",
            " [0.99999999 0.9999999  1.         ... 0.99999996 0.99999998 0.99999994]\n",
            " [1.         0.99999994 0.99999998 ... 1.         0.99999994 0.99999999]]\n",
            "\n",
            "PageRank Scores:\n",
            "Photo credit: Leo Leung<|n|><|n|>People want to know why you do what you do.<|n|><|n|>If you’re an entrepreneur, your investors, customers, and employees want to know why you founded your company.: 0.02364718620808374\n",
            "Apply for a job, and recruiters ask about your career path.: 0.023647185945244047\n",
            "If you’re a freelancer, everyone is curious about how you got started.<|n|><|n|>Why do we crave origin stories?: 0.02364718633224591\n",
            "Because they reveal character.: 0.023647186211972256\n",
            "Superman is a good guy because his planet exploded, his parents sent him to Earth, and the Kents raised him to fight evil.: 0.02364718616537856\n",
            "Steve Jobs became a trusted CEO, in part, by bouncing back from failure.: 0.023647186318239432\n",
            "My dad thrived as a home builder, but only after terminating a partnership with a prominent colleague whose practices he found unethical.<|n|><|n|>In other words:<|n|><|n|>Your origin story helps people decide whether or not to trust you.<|n|><|n|>How to Craft a Powerful Origin Story: The 5 Essential Elements<|n|><|n|>In strategic messaging and positioning engagements with CEOs, as well as business storytelling workshops for teams, I’ve helped hundreds of people construct origin stories.: 0.023647186309980455\n",
            "The best instantly convey not only trustworthiness, but also traits like commitment, persistence, and curiosity.<|n|><|n|>So what makes a great origin story work?<|n|><|n|>At the heart of every great origin story is a single event that forever changes the course of the teller’s life.: 0.02364718612754432\n",
            "Typically it arises out of failure or disappointment; sometimes it’s an unexpected discovery.: 0.023647186033310116\n",
            "Very frequently, another person illuminates a new way forward.<|n|><|n|>Can you pinpoint the event that set you on your current path?: 0.02364718601567588\n",
            "(Yes, we all have one.): 0.02364718611779945\n",
            "The event doesn’t have to be life-changing in the “I won the lottery” sense (though congrats if that happened).: 0.02364718636349283\n",
            "It just has to reorient you towards what you’re doing now.<|n|><|n|>Once you’ve identified your event, construct your origin story around it using the following five components, and tell it in this order:<|n|><|n|>1.: 0.023647186247372273\n",
            "Once upon a time…<|n|><|n|>How was your life before the life-changing event?: 0.023647186139356773\n",
            "Most importantly, what did you want back then?: 0.023647186399944214\n",
            "Share relevant details: How old were you?: 0.023647186058767422\n",
            "Where did you live?: -0.01682900425499878\n",
            "When did this happen?: 0.023647185914255284\n",
            "(No, you don’t literally have to start with “Once upon a time…”)<|n|><|n|>For example, here’s the “Once upon a time…” for my origin story:<|n|><|n|>Back in the dot-com years, I was living in Manhattan, struggling to fund my startup.: 0.02364718590975339\n",
            "It was not going well.: 0.023647186197068407\n",
            "One VC attached a hand-written note to his standard rejection letter: “Andy, I rate every business plan I receive on a scale of one to 10.: 0.023647186070503708\n",
            "Yours is a one.” At the bottom, he wrote, “P.S.: 0.023647186117206558\n",
            "Not a compelling story.”<|n|><|n|>2.: 0.023647186361429262\n",
            "“Then one day…”<|n|><|n|>Next, describe your life-changing event.: 0.02364718606928339\n",
            "If possible, tell this section as a scene with details that the listener can sense (visualize, hear, smell, etc.).: 0.023647186007121766\n",
            "Again, here’s mine:<|n|><|n|>One day, I’m walking up Broadway, when I notice a huge sign in the window of a Barnes and Noble.: 0.023647186278601934\n",
            "The sign says, “For anyone who wants to tell a compelling story,” and it’s pointing to a book about screenwriting.: 0.023647186115465204\n",
            "I buy the book.<|n|><|n|>3.: 0.023647186325608232\n",
            "“Because of that…”<|n|><|n|>What relevant events were then set in motion?: 0.02364718630922412\n",
            "What obstacles did you have to overcome?: 0.023647185937298875\n",
            "Basically, describe what happened next:<|n|><|n|>That night, I read the book from cover to cover.: 0.023647186179919386\n",
            "It’s written in the language of feature films (three act structure, etc.: 0.02364718617375548\n",
            "), but much of it seems to apply to telling the story of a startup.: 0.023647186050446398\n",
            "I rewrite my pitch and send it to a new batch of investors.<|n|><|n|>4.: 0.023647186118787827\n",
            "“Until finally…”<|n|><|n|>What was the turning point — the moment when you really committed to the new path?: 0.02364718619928805\n",
            "It’s especially effective to reflect here on how you changed and what you learned:<|n|><|n|>After receiving the revised pitch, several investor groups invite my team to their offices, and four months later we have a term sheet from a prominent Silicon Valley venture firm.: 0.02364718628830546\n",
            "The numbers, the team — all remained same.: 0.023647185913778228\n",
            "The only thing that changed was how we told our story.<|n|><|n|>5.: 0.023647186034765386\n",
            "“So now…”<|n|><|n|>Last but not least, describe what you do now, and connect it to the story.<|n|><|n|>So now I help leadership teams craft strategic messaging and positioning, which is really just their story — the story they use to power fundraising, sales, marketing, recruiting, and product.: 0.02364718626237587\n",
            "I also teach storytelling workshops for teams.: 0.02364718601331249\n",
            "And I can trace it all back to my failed pitch.<|n|><|n|>Swap Origin Stories with Others to Quickly Build Stronger Relationships<|n|><|n|>Once you’ve drafted your own origin story, tell it a few times to see what works.: 0.023647186389771268\n",
            "That’s not to say you should introduce yourself to strangers with “Once upon a time...” But if you’re embarking on a relationship with someone new — a customer, a prospect, an investor— and they ask, try it out.: 0.02364718606730192\n",
            "Pay particular attention to where they lean in.<|n|><|n|>Also, ask others to tell you their origin stories.: 0.023647185937610345\n",
            "Listen closely, and you’ll quickly learn about their character, values and desires, which can be helpful in all sorts of relationships.<|n|><|n|>As one woman in my recent General Assembly workshop said after swapping origin stories with a classmate: “There’s something about sharing these stories that makes me feel instantly connected.”: 0.023647186018352896\n",
            "\n",
            "Summary:\n",
            "If you’re a freelancer, everyone is curious about how you got started.<|n|><|n|>Why do we crave origin stories?Steve Jobs became a trusted CEO, in part, by bouncing back from failure.My dad thrived as a home builder, but only after terminating a partnership with a prominent colleague whose practices he found unethical.<|n|><|n|>In other words:<|n|><|n|>Your origin story helps people decide whether or not to trust you.<|n|><|n|>How to Craft a Powerful Origin Story: The 5 Essential Elements<|n|><|n|>In strategic messaging and positioning engagements with CEOs, as well as business storytelling workshops for teams, I’ve helped hundreds of people construct origin stories.The event doesn’t have to be life-changing in the “I won the lottery” sense (though congrats if that happened).Most importantly, what did you want back then?Not a compelling story.”<|n|><|n|>2.I buy the book.<|n|><|n|>3.“Because of that…”<|n|><|n|>What relevant events were then set in motion?It’s especially effective to reflect here on how you changed and what you learned:<|n|><|n|>After receiving the revised pitch, several investor groups invite my team to their offices, and four months later we have a term sheet from a prominent Silicon Valley venture firm.And I can trace it all back to my failed pitch.<|n|><|n|>Swap Origin Stories with Others to Quickly Build Stronger Relationships<|n|><|n|>Once you’ve drafted your own origin story, tell it a few times to see what works.\n"
          ]
        }
      ]
    },
    {
      "cell_type": "code",
      "source": [
        "import re\n",
        "\n",
        "from nltk.tokenize import sent_tokenize\n",
        "\n",
        "from nltk.corpus import stopwords\n",
        "\n",
        "from gensim.models import Word2Vec\n",
        "\n",
        "from scipy import spatial\n",
        "!pip install --upgrade networkx\n",
        "\n",
        "\n",
        "import networkx as nx\n",
        "import csv"
      ],
      "metadata": {
        "id": "69mVybKYEI9P",
        "outputId": "a1b2ee7e-7f1e-47d2-de22-85c03a541b63",
        "colab": {
          "base_uri": "https://localhost:8080/"
        }
      },
      "execution_count": 19,
      "outputs": [
        {
          "output_type": "stream",
          "name": "stdout",
          "text": [
            "Requirement already satisfied: networkx in /usr/local/lib/python3.10/dist-packages (3.3)\n"
          ]
        }
      ]
    },
    {
      "cell_type": "code",
      "source": [
        "count=0\n",
        "def generateSummary(blog):\n",
        "  global count\n",
        "  count+=1\n",
        "  print(\"Summarising blog\", count)\n",
        "  try:\n",
        "    sentences=sent_tokenize(blog)\n",
        "    sentences_clean=[re.sub(r'[^\\w\\s]','',sentence.lower()) for sentence in sentences]\n",
        "    stop_words = stopwords.words('english')\n",
        "    sentence_tokens=[[words for words in sentence.split(' ') if words not in stop_words] for sentence in sentences_clean]\n",
        "    w2v=Word2Vec(sentence_tokens,vector_size=1,min_count=1,epochs=1000) # Removed the extra indent from this line.\n",
        "    sentence_embeddings=[[w2v.wv.get_vector(word)[0] for word in words] for words in sentence_tokens]\n",
        "    max_len=max([len(tokens) for tokens in sentence_tokens])\n",
        "    sentence_embeddings=[np.pad(embedding,(0,max_len-len(embedding)),'constant') for embedding in sentence_embeddings]\n",
        "    simiarity_matrix = np.zeros([len(sentence_tokens), len(sentence_tokens)])\n",
        "    for i,row_embedding in enumerate(sentence_embeddings):\n",
        "      for j,column_embedding in enumerate(sentence_embeddings):\n",
        "        simiarity_matrix[i][j]=1-spatial.distance.cosine(row_embedding,columwn_embedding)\n",
        "        nx_graph = nx.from_numpy_array(simiarity_matrix)\n",
        "        scores=nx.pagerank(nx_graph,max_iter=600)\n",
        "        top_sentence={sentence:scores[index] for index,sentence in enumerate(sentences)}\n",
        "        sentNeeded= round(0.25*len(sentences))-1\n",
        "        top=dict(sorted(top_sentence.items(), key=lambda x: x[1], reverse=True)[:sentNeeded])\n",
        "        summary=\"\"\n",
        "        for sent in sentences:\n",
        "          if sent in top.keys():\n",
        "            summary+= sent\n",
        "            return summary\n",
        "  except:\n",
        "    return float(\"NaN\")\n"
      ],
      "metadata": {
        "id": "i3LOBNJOEUdz"
      },
      "execution_count": 20,
      "outputs": []
    },
    {
      "cell_type": "code",
      "source": [
        "import math\n",
        "import csv\n",
        "filename = \"articlesSet.csv\"\n",
        "fields = ['title', 'summary', 'content']  # Correct variable name\n",
        "with open(filename, 'a') as csvfile:\n",
        "    csvwriter = csv.writer(csvfile)\n",
        "    csvwriter.writerow(fields)  # Use the correct variable name here\n",
        "\n",
        "    def callback(row):\n",
        "        summary = generateSummary(row['text'])\n",
        "        if (type(summary) != str):\n",
        "            return\n",
        "        rows = [row['title'], summary, row['text']]\n",
        "        csvwriter.writerow(rows)\n",
        "\n",
        "    df.apply(callback, axis=1)\n"
      ],
      "metadata": {
        "id": "fRhk5E8RF8dW",
        "outputId": "d05c714b-06c3-4536-8063-d293f4dc2bf2",
        "colab": {
          "base_uri": "https://localhost:8080/"
        }
      },
      "execution_count": null,
      "outputs": [
        {
          "output_type": "stream",
          "name": "stdout",
          "text": [
            "Summarising blog 1\n",
            "Summarising blog 2\n",
            "Summarising blog 3\n",
            "Summarising blog 4\n",
            "Summarising blog 5\n",
            "Summarising blog 6\n",
            "Summarising blog 7\n",
            "Summarising blog 8\n",
            "Summarising blog 9\n",
            "Summarising blog 10\n",
            "Summarising blog 11\n",
            "Summarising blog 12\n",
            "Summarising blog 13\n",
            "Summarising blog 14\n",
            "Summarising blog 15\n",
            "Summarising blog 16\n",
            "Summarising blog 17\n",
            "Summarising blog 18\n",
            "Summarising blog 19\n",
            "Summarising blog 20\n",
            "Summarising blog 21\n",
            "Summarising blog 22\n",
            "Summarising blog 23\n",
            "Summarising blog 24\n",
            "Summarising blog 25\n",
            "Summarising blog 26\n",
            "Summarising blog 27\n",
            "Summarising blog 28\n",
            "Summarising blog 29\n",
            "Summarising blog 30\n",
            "Summarising blog 31\n",
            "Summarising blog 32\n",
            "Summarising blog 33\n",
            "Summarising blog 34\n",
            "Summarising blog 35\n",
            "Summarising blog 36\n",
            "Summarising blog 37\n",
            "Summarising blog 38\n",
            "Summarising blog 39\n",
            "Summarising blog 40\n",
            "Summarising blog 41\n",
            "Summarising blog 42\n",
            "Summarising blog 43\n",
            "Summarising blog 44\n",
            "Summarising blog 45\n",
            "Summarising blog 46\n",
            "Summarising blog 47\n",
            "Summarising blog 48\n",
            "Summarising blog 49\n",
            "Summarising blog 50\n",
            "Summarising blog 51\n",
            "Summarising blog 52\n",
            "Summarising blog 53\n",
            "Summarising blog 54\n",
            "Summarising blog 55\n",
            "Summarising blog 56\n",
            "Summarising blog 57\n",
            "Summarising blog 58\n",
            "Summarising blog 59\n",
            "Summarising blog 60\n",
            "Summarising blog 61\n",
            "Summarising blog 62\n",
            "Summarising blog 63\n",
            "Summarising blog 64\n",
            "Summarising blog 65\n",
            "Summarising blog 66\n",
            "Summarising blog 67\n",
            "Summarising blog 68\n",
            "Summarising blog 69\n",
            "Summarising blog 70\n",
            "Summarising blog 71\n",
            "Summarising blog 72\n",
            "Summarising blog 73\n",
            "Summarising blog 74\n",
            "Summarising blog 75\n",
            "Summarising blog 76\n",
            "Summarising blog 77\n",
            "Summarising blog 78\n",
            "Summarising blog 79\n",
            "Summarising blog 80\n",
            "Summarising blog 81\n",
            "Summarising blog 82\n",
            "Summarising blog 83\n",
            "Summarising blog 84\n",
            "Summarising blog 85\n",
            "Summarising blog 86\n",
            "Summarising blog 87\n"
          ]
        }
      ]
    }
  ]
}